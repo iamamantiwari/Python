{
 "cells": [
  {
   "cell_type": "markdown",
   "id": "e4f51571",
   "metadata": {},
   "source": [
    "# Dictionary\n"
   ]
  },
  {
   "cell_type": "markdown",
   "id": "f88c08d5",
   "metadata": {},
   "source": [
    "Dictionay is an ordered set of key and value pair."
   ]
  },
  {
   "cell_type": "code",
   "execution_count": 8,
   "id": "532633ad",
   "metadata": {},
   "outputs": [
    {
     "name": "stdout",
     "output_type": "stream",
     "text": [
      "{'Maths': 20, 'Python': 30, 'Django': 50}\n",
      "<class 'dict'>\n",
      "20\n",
      "50\n"
     ]
    }
   ],
   "source": [
    "#Create dictionay and accesing it\n",
    "\n",
    "\n",
    "Subject={'Maths':20,'Python':30,'Django':50}\n",
    "\n",
    "print(Subject)\n",
    "\n",
    "print(type(Subject))\n",
    "\n",
    "print(Subject['Maths'])\n",
    "\n",
    "print(Subject['Django'])"
   ]
  },
  {
   "cell_type": "code",
   "execution_count": null,
   "id": "205bf4ac",
   "metadata": {},
   "outputs": [],
   "source": []
  },
  {
   "cell_type": "code",
   "execution_count": 9,
   "id": "79d02b48",
   "metadata": {},
   "outputs": [
    {
     "name": "stdout",
     "output_type": "stream",
     "text": [
      "{'Aman': 20, 'Hello': 40}\n"
     ]
    }
   ],
   "source": [
    "name={}\n",
    "name['Aman']=20\n",
    "name['Hello']=40\n",
    "print(name)"
   ]
  },
  {
   "cell_type": "code",
   "execution_count": 10,
   "id": "f08b46ef",
   "metadata": {},
   "outputs": [
    {
     "name": "stdout",
     "output_type": "stream",
     "text": [
      "{'Name': 'Aman', 'Age': 20, 'Address': 'Delhi'}\n",
      "{'Name': 'Dhillu', 'Age': 24, 'Address': 'Vaishali'}\n"
     ]
    }
   ],
   "source": [
    "data={'Name':\"Aman\",'Age':20,'Address':'Delhi'}\n",
    "data2={'Name':\"Dhillu\",'Age':24,'Address':'Vaishali'}\n",
    "\n",
    "\n",
    "print(data)\n",
    "\n",
    "print(data2)"
   ]
  },
  {
   "cell_type": "code",
   "execution_count": 11,
   "id": "4f5e1414",
   "metadata": {},
   "outputs": [
    {
     "name": "stdout",
     "output_type": "stream",
     "text": [
      "{'Name': 'Aman', 'Age': 20, 'Address': 'Delhi', 'Gender': 'Male'}\n",
      "{'Name': 'Dhillu', 'Age': 24, 'Address': 'Vaishali', 'Gender': 'Male'}\n"
     ]
    }
   ],
   "source": [
    "data['Gender']='Male'\n",
    "data2['Gender']='Male'\n",
    "print(data)\n",
    "print(data2)"
   ]
  },
  {
   "cell_type": "code",
   "execution_count": 12,
   "id": "92121b2f",
   "metadata": {},
   "outputs": [],
   "source": [
    "del data['Age']"
   ]
  },
  {
   "cell_type": "code",
   "execution_count": 13,
   "id": "3e8c7030",
   "metadata": {},
   "outputs": [
    {
     "name": "stdout",
     "output_type": "stream",
     "text": [
      "{'Name': 'Aman', 'Address': 'Delhi', 'Gender': 'Male'}\n"
     ]
    }
   ],
   "source": [
    "print(data)"
   ]
  },
  {
   "cell_type": "code",
   "execution_count": null,
   "id": "b5d31cda",
   "metadata": {},
   "outputs": [],
   "source": []
  }
 ],
 "metadata": {
  "kernelspec": {
   "display_name": "Python 3 (ipykernel)",
   "language": "python",
   "name": "python3"
  },
  "language_info": {
   "codemirror_mode": {
    "name": "ipython",
    "version": 3
   },
   "file_extension": ".py",
   "mimetype": "text/x-python",
   "name": "python",
   "nbconvert_exporter": "python",
   "pygments_lexer": "ipython3",
   "version": "3.11.3"
  }
 },
 "nbformat": 4,
 "nbformat_minor": 5
}
