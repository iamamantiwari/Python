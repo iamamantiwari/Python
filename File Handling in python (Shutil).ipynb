{
 "cells": [
  {
   "cell_type": "code",
   "execution_count": 2,
   "id": "ff84157f",
   "metadata": {},
   "outputs": [
    {
     "name": "stdout",
     "output_type": "stream",
     "text": [
      "File Copied\n"
     ]
    }
   ],
   "source": [
    "#Copy File with shutil\n",
    "\n",
    "import shutil\n",
    "\n",
    "shutil.copy(\"sample.txt\",'code.txt')\n",
    "print(\"File Copied\")"
   ]
  },
  {
   "cell_type": "code",
   "execution_count": null,
   "id": "b4629b00",
   "metadata": {},
   "outputs": [],
   "source": []
  },
  {
   "cell_type": "code",
   "execution_count": null,
   "id": "9b590ab9",
   "metadata": {},
   "outputs": [],
   "source": [
    "#Copy Folder with file\n",
    "import shutil\n",
    "\n",
    "shutil.copytree(\"Python\",'ducat')\n",
    "print(\"File Copied\")"
   ]
  },
  {
   "cell_type": "code",
   "execution_count": null,
   "id": "cba3b94e",
   "metadata": {},
   "outputs": [],
   "source": []
  },
  {
   "cell_type": "code",
   "execution_count": null,
   "id": "a31cbf75",
   "metadata": {},
   "outputs": [],
   "source": [
    "#Move files from folder to another folder make sure folders were creadted already\n",
    "\n",
    "import shutil\n",
    "\n",
    "shutil.move(\"Python\",'ducat')\n",
    "print(\"Folder Moved\")"
   ]
  },
  {
   "cell_type": "code",
   "execution_count": null,
   "id": "bb8c313b",
   "metadata": {},
   "outputs": [],
   "source": []
  },
  {
   "cell_type": "code",
   "execution_count": null,
   "id": "20deb715",
   "metadata": {},
   "outputs": [],
   "source": []
  },
  {
   "cell_type": "code",
   "execution_count": null,
   "id": "c6829bdb",
   "metadata": {},
   "outputs": [],
   "source": [
    "#Remove folder \n",
    "\n",
    "import shutil\n",
    "\n",
    "shutil.rmtree('ducat')\n",
    "print(\"Folder Removed\")"
   ]
  },
  {
   "cell_type": "code",
   "execution_count": null,
   "id": "94413c89",
   "metadata": {},
   "outputs": [],
   "source": []
  },
  {
   "cell_type": "code",
   "execution_count": null,
   "id": "2af1b19d",
   "metadata": {},
   "outputs": [],
   "source": []
  },
  {
   "cell_type": "code",
   "execution_count": null,
   "id": "36a01c76",
   "metadata": {},
   "outputs": [],
   "source": []
  },
  {
   "cell_type": "code",
   "execution_count": null,
   "id": "9ad05fd7",
   "metadata": {},
   "outputs": [],
   "source": []
  },
  {
   "cell_type": "code",
   "execution_count": null,
   "id": "01aaae3f",
   "metadata": {},
   "outputs": [],
   "source": []
  },
  {
   "cell_type": "code",
   "execution_count": null,
   "id": "3a0107e7",
   "metadata": {},
   "outputs": [],
   "source": [
    "#How to walk folder, sub folder and files\n",
    "\n",
    "import os\n",
    "\n",
    "os.chdir(\"File or Folder Path\")\n",
    "for folder, subfolder,files in os.walk(os.getcwd()):\n",
    "    print(folder)\n",
    "    print(subfolder)\n",
    "    print(files)\n",
    "    "
   ]
  },
  {
   "cell_type": "code",
   "execution_count": null,
   "id": "45394f8e",
   "metadata": {},
   "outputs": [],
   "source": []
  },
  {
   "cell_type": "code",
   "execution_count": null,
   "id": "7dda02b1",
   "metadata": {},
   "outputs": [],
   "source": []
  },
  {
   "cell_type": "code",
   "execution_count": null,
   "id": "744578f4",
   "metadata": {},
   "outputs": [],
   "source": []
  },
  {
   "cell_type": "code",
   "execution_count": null,
   "id": "c2d64ab4",
   "metadata": {},
   "outputs": [],
   "source": []
  },
  {
   "cell_type": "markdown",
   "id": "9d2cea27",
   "metadata": {},
   "source": [
    "os.path.exists() #Check file or folder existence \n",
    "\n",
    "os.path.isfile() #Only check file existence\n",
    "\n",
    "os.path.isdir() #Check only folder existence\n"
   ]
  },
  {
   "cell_type": "code",
   "execution_count": null,
   "id": "ca4c5f38",
   "metadata": {},
   "outputs": [],
   "source": [
    "#How to check existence of files and folder\n",
    "\n",
    "\n",
    "import os\n",
    "\n",
    "if (os.path.exists('sample.txt')):\n",
    "    obj=open(\"sample.txt\",\"r\")\n",
    "    print(obj.read())\n",
    "    obj.close()\n",
    "    \n",
    "else:\n",
    "    obj=open(\"sample.txt\",'w')\n",
    "    obj.write(\"Hello world This is Python world\")\n",
    "    print(\"Write data into file\")\n",
    "    \n",
    "    obj.close()"
   ]
  },
  {
   "cell_type": "code",
   "execution_count": null,
   "id": "65be78e7",
   "metadata": {},
   "outputs": [],
   "source": []
  },
  {
   "cell_type": "code",
   "execution_count": null,
   "id": "f6f231cf",
   "metadata": {},
   "outputs": [],
   "source": []
  },
  {
   "cell_type": "code",
   "execution_count": 4,
   "id": "928bb9f3",
   "metadata": {},
   "outputs": [
    {
     "name": "stdout",
     "output_type": "stream",
     "text": [
      "Folder Not Found\n"
     ]
    }
   ],
   "source": [
    "\n",
    "\n",
    "import os\n",
    "\n",
    "if (os.path.isdir(\"Python\")):\n",
    "    print(\"Folder Found\")\n",
    "else:\n",
    "    print(\"Folder Not Found\")"
   ]
  },
  {
   "cell_type": "code",
   "execution_count": null,
   "id": "bb921bbd",
   "metadata": {},
   "outputs": [],
   "source": []
  },
  {
   "cell_type": "code",
   "execution_count": null,
   "id": "12d1f5df",
   "metadata": {},
   "outputs": [],
   "source": []
  },
  {
   "cell_type": "markdown",
   "id": "d754f4e0",
   "metadata": {},
   "source": [
    "tell( )\n",
    "\n",
    "\n",
    "seek(offset, from_what )"
   ]
  },
  {
   "cell_type": "code",
   "execution_count": 5,
   "id": "fb3e3375",
   "metadata": {},
   "outputs": [],
   "source": [
    "#How to random access of file\n",
    "\n",
    "obj=oepn(\"sample.txt\",\"w\")\n",
    "obj.write(\"Welcome to Python\")\n",
    "print(\"Data written into file\")\n",
    "\n",
    "obj.close()\n",
    "\n",
    "\n",
    "obj.open(\"sample.txt\",\"r\")\n",
    "print(\"Pos=\",obj.tell())\n",
    "\n",
    "print(obj.read(5))\n",
    "\n",
    "print(\"Pos=\",obj.tell())\n",
    "\n",
    "print(obj.read())\n",
    "\n",
    "print(\"Pos=\",obj.tell())\n",
    "\n",
    "obj.seek(5,0)\n",
    "\n",
    "print(\"Pos=\",obj.tell())\n",
    "\n",
    "obj.seek(0,2)\n",
    "\n",
    "print(obj.read())\n",
    "\n",
    "print(\"Pos=\",obj.tell())\n",
    "\n"
   ]
  },
  {
   "cell_type": "code",
   "execution_count": null,
   "id": "e0903ee0",
   "metadata": {},
   "outputs": [],
   "source": []
  },
  {
   "cell_type": "code",
   "execution_count": null,
   "id": "830db2f0",
   "metadata": {},
   "outputs": [],
   "source": []
  },
  {
   "cell_type": "code",
   "execution_count": null,
   "id": "f0706f69",
   "metadata": {},
   "outputs": [],
   "source": []
  },
  {
   "cell_type": "code",
   "execution_count": null,
   "id": "5f795651",
   "metadata": {},
   "outputs": [],
   "source": []
  },
  {
   "cell_type": "code",
   "execution_count": null,
   "id": "c9f46f36",
   "metadata": {},
   "outputs": [],
   "source": []
  },
  {
   "cell_type": "code",
   "execution_count": null,
   "id": "6bb59e60",
   "metadata": {},
   "outputs": [],
   "source": []
  }
 ],
 "metadata": {
  "kernelspec": {
   "display_name": "Python 3 (ipykernel)",
   "language": "python",
   "name": "python3"
  },
  "language_info": {
   "codemirror_mode": {
    "name": "ipython",
    "version": 3
   },
   "file_extension": ".py",
   "mimetype": "text/x-python",
   "name": "python",
   "nbconvert_exporter": "python",
   "pygments_lexer": "ipython3",
   "version": "3.11.3"
  }
 },
 "nbformat": 4,
 "nbformat_minor": 5
}
