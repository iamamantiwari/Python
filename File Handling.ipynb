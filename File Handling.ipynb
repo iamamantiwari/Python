{
 "cells": [
  {
   "cell_type": "code",
   "execution_count": 1,
   "id": "594d6c1d",
   "metadata": {},
   "outputs": [
    {
     "name": "stdout",
     "output_type": "stream",
     "text": [
      "Write data into the file\n"
     ]
    }
   ],
   "source": [
    "#Create a text file and write some data into file\n",
    "\n",
    "obj=open(\"sam.txt\",'w')\n",
    "obj.write(\"Hello!! how are you\")\n",
    "print(\"Write data into the file\")\n",
    "obj.close()"
   ]
  },
  {
   "cell_type": "code",
   "execution_count": 2,
   "id": "3e431634",
   "metadata": {},
   "outputs": [
    {
     "name": "stdout",
     "output_type": "stream",
     "text": [
      "Write data into the file\n"
     ]
    }
   ],
   "source": [
    "obj=open(\"sample.txt\",'w')\n",
    "obj.write(\"Hello!! how are you\")\n",
    "print(\"Write data into the file\")\n",
    "obj.close()"
   ]
  },
  {
   "cell_type": "code",
   "execution_count": 3,
   "id": "852542ba",
   "metadata": {},
   "outputs": [
    {
     "name": "stdout",
     "output_type": "stream",
     "text": [
      "Hello!! how are you\n"
     ]
    }
   ],
   "source": [
    "#open an existing file and read the data\n",
    "\n",
    "\n",
    "obj=open('sample.txt','r')\n",
    "res=obj.read()\n",
    "print(res)\n",
    "obj.close()"
   ]
  },
  {
   "cell_type": "code",
   "execution_count": 4,
   "id": "3e11a366",
   "metadata": {},
   "outputs": [
    {
     "name": "stdout",
     "output_type": "stream",
     "text": [
      "Hello!! how are you\n"
     ]
    }
   ],
   "source": [
    "obj=open('sam.txt','r')\n",
    "res=obj.read()\n",
    "print(res)\n",
    "obj.close()"
   ]
  },
  {
   "cell_type": "code",
   "execution_count": 6,
   "id": "c830a2df",
   "metadata": {},
   "outputs": [
    {
     "name": "stdout",
     "output_type": "stream",
     "text": [
      "Write data into the file\n",
      "Hello!! how are you\n"
     ]
    }
   ],
   "source": [
    "#Read the file and close or flush\n",
    "\n",
    "\n",
    "obj=open(\"sample.txt\",'w+')\n",
    "obj.write(\"Hello!! how are you\")\n",
    "print(\"Write data into the file\")\n",
    "obj.flush()\n",
    "obj.seek(0)\n",
    "print(obj.read())"
   ]
  },
  {
   "cell_type": "code",
   "execution_count": null,
   "id": "50c901ad",
   "metadata": {},
   "outputs": [],
   "source": []
  },
  {
   "cell_type": "code",
   "execution_count": null,
   "id": "edfbdd45",
   "metadata": {},
   "outputs": [],
   "source": []
  },
  {
   "cell_type": "code",
   "execution_count": 7,
   "id": "f59a65df",
   "metadata": {},
   "outputs": [
    {
     "name": "stdout",
     "output_type": "stream",
     "text": [
      "Write data into the file\n"
     ]
    },
    {
     "ename": "ValueError",
     "evalue": "I/O operation on closed file.",
     "output_type": "error",
     "traceback": [
      "\u001b[0;31m---------------------------------------------------------------------------\u001b[0m",
      "\u001b[0;31mValueError\u001b[0m                                Traceback (most recent call last)",
      "Cell \u001b[0;32mIn[7], line 5\u001b[0m\n\u001b[1;32m      3\u001b[0m \u001b[38;5;28mprint\u001b[39m(\u001b[38;5;124m\"\u001b[39m\u001b[38;5;124mWrite data into the file\u001b[39m\u001b[38;5;124m\"\u001b[39m)\n\u001b[1;32m      4\u001b[0m obj\u001b[38;5;241m.\u001b[39mclose()\n\u001b[0;32m----> 5\u001b[0m obj\u001b[38;5;241m.\u001b[39mseek(\u001b[38;5;241m0\u001b[39m)\n\u001b[1;32m      6\u001b[0m \u001b[38;5;28mprint\u001b[39m(obj\u001b[38;5;241m.\u001b[39mread())\n",
      "\u001b[0;31mValueError\u001b[0m: I/O operation on closed file."
     ]
    }
   ],
   "source": [
    "# bcoz we close the file now we can not read the file..\n",
    "\n",
    "\n",
    "\n",
    "obj=open(\"sample.txt\",'w+')\n",
    "obj.write(\"Hello!! how are you\")\n",
    "print(\"Write data into the file\")\n",
    "obj.close()\n",
    "obj.seek(0)\n",
    "print(obj.read())"
   ]
  },
  {
   "cell_type": "code",
   "execution_count": null,
   "id": "2f002811",
   "metadata": {},
   "outputs": [],
   "source": []
  },
  {
   "cell_type": "code",
   "execution_count": 8,
   "id": "c9c663c0",
   "metadata": {},
   "outputs": [
    {
     "name": "stdout",
     "output_type": "stream",
     "text": [
      "Hello!! how are you\n"
     ]
    }
   ],
   "source": [
    "#Writing more data in exixting file \n",
    "\n",
    "\n",
    "obj=open(\"sample.txt\",'r+')\n",
    "print(obj.read())\n",
    "obj.write(\"\\n Kyaa haal chaal\")\n",
    "obj.close()\n"
   ]
  },
  {
   "cell_type": "code",
   "execution_count": 9,
   "id": "4e947936",
   "metadata": {},
   "outputs": [
    {
     "name": "stdout",
     "output_type": "stream",
     "text": [
      "Hello!! how are you\n",
      " Kyaa haal chaal\n"
     ]
    }
   ],
   "source": [
    "obj=open(\"sample.txt\",'r+')\n",
    "print(obj.read())\n"
   ]
  },
  {
   "cell_type": "code",
   "execution_count": null,
   "id": "d17ca9f9",
   "metadata": {},
   "outputs": [],
   "source": []
  },
  {
   "cell_type": "code",
   "execution_count": 13,
   "id": "13fd5ca6",
   "metadata": {},
   "outputs": [
    {
     "name": "stdout",
     "output_type": "stream",
     "text": [
      "Hello!! how are you\n",
      " Kyaa haal chaal What's your opinion on AI will it take human jobs or not \n",
      "if Yes then Job crises are going to happen a lot. \n",
      "And AI is not safe it'll definitely be going \n",
      "to do your work easily but\n",
      "when you get things very easily then it is not safe.\n",
      " What's your opinion on AI will it take human jobs or not \n",
      "if Yes then Job crises are going to happen a lot. \n",
      "And AI is not safe it'll definitely be going \n",
      "to do your work easily but\n",
      "when you get things very easily then it is not safe. What's your opinion on AI will it take human jobs or not \n",
      "if Yes then Job crises are going to happen a lot. \n",
      "And AI is not safe it'll definitely be going \n",
      "to do your work easily but\n",
      "when you get things very easily then it is not safe. What's your opinion on AI will it take human jobs or not \n",
      "if Yes then Job crises are going to happen a lot. \n",
      "And AI is not safe it'll definitely be going \n",
      "to do your work easily but\n",
      "when you get things very easily then it is not safe.\n"
     ]
    }
   ],
   "source": [
    "obj=open(\"sample.txt\",'a')\n",
    "data=''' What's your opinion on AI will it take human jobs or not \n",
    "if Yes then Job crises are going to happen a lot. \n",
    "And AI is not safe it'll definitely be going \n",
    "to do your work easily but\n",
    "when you get things very easily then it is not safe.'''\n",
    "\n",
    "\n",
    "obj.write(data)\n",
    "obj.close()\n",
    "\n",
    "obj=open(\"sample.txt\",'r')\n",
    "\n",
    "res=obj.read()\n",
    "print(res)\n",
    "obj.close()\n"
   ]
  },
  {
   "cell_type": "code",
   "execution_count": 15,
   "id": "0d7633a4",
   "metadata": {},
   "outputs": [
    {
     "name": "stdout",
     "output_type": "stream",
     "text": [
      "Hello!! how are you\n",
      " Kyaa haal chaal What's your opinion on AI will it take human jobs or not \n",
      "if Yes then Job crises are going to happen a lot. \n",
      "And AI is not safe it'll definitely be going \n",
      "to do yo\n"
     ]
    }
   ],
   "source": [
    "obj=open(\"sample.txt\",'a')\n",
    "data=''' What's your opinion on AI will it take human jobs or not \n",
    "if Yes then Job crises are going to happen a lot. \n",
    "And AI is not safe it'll definitely be going \n",
    "to do your work easily but\n",
    "when you get things very easily then it is not safe.'''\n",
    "\n",
    "\n",
    "obj.write(data)\n",
    "obj.close()\n",
    "\n",
    "obj=open(\"sample.txt\",'r')\n",
    "\n",
    "res=obj.read(200) #read only 200 characters from file \n",
    "print(res)\n",
    "obj.close()"
   ]
  },
  {
   "cell_type": "code",
   "execution_count": 16,
   "id": "999e56f3",
   "metadata": {},
   "outputs": [
    {
     "name": "stdout",
     "output_type": "stream",
     "text": [
      "Hello!! how are you\n",
      " Kyaa haal chaal What's your opinion on AI will it take human jobs or not \n",
      "if Yes then Job crises are going to happen a lot. \n",
      "And AI is not safe it'll definitely be going \n",
      "to do your work easily but\n",
      "when you get things very easily then it is not safe.\n",
      " What's your opinion on AI will it take human jobs or not \n",
      "if Yes then Job crises are going to happen a lot. \n",
      "And AI is not safe it'll definitely be going \n",
      "to do your work easily but\n",
      "when you get things very easily then it is not safe. What's your opinion on AI will it take human jobs or not \n",
      "if Yes then Job crises are going t\n"
     ]
    }
   ],
   "source": [
    "obj=open(\"sample.txt\",'r')\n",
    "\n",
    "res=obj.read(600) #read only 200 characters from file \n",
    "print(res)\n",
    "obj.close()"
   ]
  },
  {
   "cell_type": "code",
   "execution_count": 17,
   "id": "63f45e85",
   "metadata": {},
   "outputs": [
    {
     "name": "stdout",
     "output_type": "stream",
     "text": [
      "Hello!! how are you\n",
      " Kyaa haal chaal What's your opinion on AI will it take human jobs or not \n",
      "if Yes then Job crises are going to happen a lot. \n",
      "And AI is not safe it'll definitely be going \n",
      "to do your work easily but\n",
      "when you get things very easily then it is not safe.\n",
      " What's your opinion on AI will it take human jobs or not \n",
      "if Yes then Job crises are going to happen a lot. \n",
      "And AI is not safe it'll definitely be going \n",
      "to do your work easily but\n",
      "when you get things very easily then it is not safe. What's your opinion on AI will it take human jobs or not \n",
      "if Yes then Job crises are going to happen a lot. \n",
      "And AI is not safe it'll definitely be going \n",
      "to do your work easily but\n",
      "when you get things very easily then it is not safe. What's your opinion on AI will it take human jobs or not \n",
      "if Yes then Job crises are going to happen a lot. \n",
      "And AI is not safe it'll definitely be going \n",
      "to do your work easily but\n",
      "when you get things very easily then it is not safe. What's your opinion on AI will it take human jobs or not \n",
      "if Yes then Job crises are going to happen a lot. \n",
      "And AI is not safe it'll definitely be going \n",
      "to do your work easily but\n",
      "when you get things very easily then it is not safe. What's your opinion on AI will it take human jobs or not \n",
      "if Yes then Job crises are going to happen a lot. \n",
      "And AI is not safe it'll definitely be going \n",
      "to do your work easily but\n",
      "when you get things very easily then it is not safe.\n"
     ]
    }
   ],
   "source": [
    "obj=open(\"sample.txt\",'r')\n",
    "\n",
    "res=obj.read() #read only 200 characters from file \n",
    "print(res)\n",
    "obj.close()"
   ]
  },
  {
   "cell_type": "code",
   "execution_count": null,
   "id": "72686fbc",
   "metadata": {},
   "outputs": [],
   "source": []
  },
  {
   "cell_type": "code",
   "execution_count": null,
   "id": "3e8c3aa9",
   "metadata": {},
   "outputs": [],
   "source": []
  },
  {
   "cell_type": "code",
   "execution_count": 18,
   "id": "cae1aa42",
   "metadata": {},
   "outputs": [
    {
     "name": "stdout",
     "output_type": "stream",
     "text": [
      "Hello!! how are you\n",
      "\n"
     ]
    }
   ],
   "source": [
    "#readline\n",
    "\n",
    "obj=open(\"sample.txt\",'r')\n",
    "\n",
    "res=obj.readline() #read only 200 characters from file \n",
    "print(res)\n",
    "obj.close()"
   ]
  },
  {
   "cell_type": "code",
   "execution_count": 20,
   "id": "aaac57d1",
   "metadata": {},
   "outputs": [
    {
     "name": "stdout",
     "output_type": "stream",
     "text": [
      "['Hello!! how are you\\n', \" Kyaa haal chaal What's your opinion on AI will it take human jobs or not \\n\", 'if Yes then Job crises are going to happen a lot. \\n', \"And AI is not safe it'll definitely be going \\n\", 'to do your work easily but\\n', 'when you get things very easily then it is not safe.\\n', \" What's your opinion on AI will it take human jobs or not \\n\", 'if Yes then Job crises are going to happen a lot. \\n', \"And AI is not safe it'll definitely be going \\n\"]\n"
     ]
    }
   ],
   "source": [
    "#readlines\n",
    "\n",
    "obj=open(\"sample.txt\",'r')\n",
    "\n",
    "res=obj.readlines(400) #read only 200 characters from file \n",
    "print(res)\n",
    "obj.close()"
   ]
  },
  {
   "cell_type": "code",
   "execution_count": null,
   "id": "e1c7e237",
   "metadata": {},
   "outputs": [],
   "source": []
  },
  {
   "cell_type": "code",
   "execution_count": null,
   "id": "10d041b3",
   "metadata": {},
   "outputs": [],
   "source": []
  },
  {
   "cell_type": "code",
   "execution_count": 22,
   "id": "bae5abaf",
   "metadata": {},
   "outputs": [
    {
     "name": "stdout",
     "output_type": "stream",
     "text": [
      "Hello!! how are you\n",
      " Kyaa haal chaal What's your opinion on AI will it take human jobs or not \n",
      "if Yes then Job crises are going to happen a lot. \n",
      "And AI is not safe it'll definitely be going \n",
      "to do your work easily but\n",
      "when you get things very easily then it is not safe.\n",
      " What's your opinion on AI will it take human jobs or not \n",
      "if Yes then Job crises are going to happen a lot. \n",
      "And AI is not safe it'll definitely be going \n",
      "to do your work easily but\n",
      "when you get things very easily then it is not safe. What's your opinion on AI will it take human jobs or not \n",
      "if Yes then Job crises are going to happen a lot. \n",
      "And AI is not safe it'll definitely be going \n",
      "to do your work easily but\n",
      "when you get things very easily then it is not safe. What's your opinion on AI will it take human jobs or not \n",
      "if Yes then Job crises are going to happen a lot. \n",
      "And AI is not safe it'll definitely be going \n",
      "to do your work easily but\n",
      "when you get things very easily then it is not safe. What's your opinion on AI will it take human jobs or not \n",
      "if Yes then Job crises are going to happen a lot. \n",
      "And AI is not safe it'll definitely be going \n",
      "to do your work easily but\n",
      "when you get things very easily then it is not safe. What's your opinion on AI will it take human jobs or not \n",
      "if Yes then Job crises are going to happen a lot. \n",
      "And AI is not safe it'll definitely be going \n",
      "to do your work easily but\n",
      "when you get things very easily then it is not safe.\n",
      "Welcome to the text file.\n",
      "Welcome to the text file.\n"
     ]
    }
   ],
   "source": [
    "obj=open(\"sample.txt\",'a')\n",
    "data='\\nWelcome to the text file.'\n",
    "\n",
    "\n",
    "obj.write(data)\n",
    "obj.close()\n",
    "\n",
    "obj=open(\"sample.txt\",'r')\n",
    "\n",
    "res=obj.read() #read only 200 characters from file \n",
    "print(res)\n",
    "obj.close()"
   ]
  },
  {
   "cell_type": "code",
   "execution_count": null,
   "id": "8f5bcfeb",
   "metadata": {},
   "outputs": [],
   "source": []
  },
  {
   "cell_type": "code",
   "execution_count": null,
   "id": "69581292",
   "metadata": {},
   "outputs": [],
   "source": []
  },
  {
   "cell_type": "code",
   "execution_count": 23,
   "id": "b2f2ec86",
   "metadata": {},
   "outputs": [
    {
     "ename": "FileExistsError",
     "evalue": "[Errno 17] File exists: 'sample.txt'",
     "output_type": "error",
     "traceback": [
      "\u001b[0;31m---------------------------------------------------------------------------\u001b[0m",
      "\u001b[0;31mFileExistsError\u001b[0m                           Traceback (most recent call last)",
      "Cell \u001b[0;32mIn[23], line 1\u001b[0m\n\u001b[0;32m----> 1\u001b[0m obj\u001b[38;5;241m=\u001b[39m\u001b[38;5;28mopen\u001b[39m(\u001b[38;5;124m\"\u001b[39m\u001b[38;5;124msample.txt\u001b[39m\u001b[38;5;124m\"\u001b[39m,\u001b[38;5;124m'\u001b[39m\u001b[38;5;124mx\u001b[39m\u001b[38;5;124m'\u001b[39m)\n\u001b[1;32m      2\u001b[0m data\u001b[38;5;241m=\u001b[39m\u001b[38;5;124m'\u001b[39m\u001b[38;5;130;01m\\n\u001b[39;00m\u001b[38;5;124mWelcome to the text file.\u001b[39m\u001b[38;5;124m'\u001b[39m\n\u001b[1;32m      5\u001b[0m obj\u001b[38;5;241m.\u001b[39mwrite(data)\n",
      "File \u001b[0;32m~/anaconda3/lib/python3.11/site-packages/IPython/core/interactiveshell.py:284\u001b[0m, in \u001b[0;36m_modified_open\u001b[0;34m(file, *args, **kwargs)\u001b[0m\n\u001b[1;32m    277\u001b[0m \u001b[38;5;28;01mif\u001b[39;00m file \u001b[38;5;129;01min\u001b[39;00m {\u001b[38;5;241m0\u001b[39m, \u001b[38;5;241m1\u001b[39m, \u001b[38;5;241m2\u001b[39m}:\n\u001b[1;32m    278\u001b[0m     \u001b[38;5;28;01mraise\u001b[39;00m \u001b[38;5;167;01mValueError\u001b[39;00m(\n\u001b[1;32m    279\u001b[0m         \u001b[38;5;124mf\u001b[39m\u001b[38;5;124m\"\u001b[39m\u001b[38;5;124mIPython won\u001b[39m\u001b[38;5;124m'\u001b[39m\u001b[38;5;124mt let you open fd=\u001b[39m\u001b[38;5;132;01m{\u001b[39;00mfile\u001b[38;5;132;01m}\u001b[39;00m\u001b[38;5;124m by default \u001b[39m\u001b[38;5;124m\"\u001b[39m\n\u001b[1;32m    280\u001b[0m         \u001b[38;5;124m\"\u001b[39m\u001b[38;5;124mas it is likely to crash IPython. If you know what you are doing, \u001b[39m\u001b[38;5;124m\"\u001b[39m\n\u001b[1;32m    281\u001b[0m         \u001b[38;5;124m\"\u001b[39m\u001b[38;5;124myou can use builtins\u001b[39m\u001b[38;5;124m'\u001b[39m\u001b[38;5;124m open.\u001b[39m\u001b[38;5;124m\"\u001b[39m\n\u001b[1;32m    282\u001b[0m     )\n\u001b[0;32m--> 284\u001b[0m \u001b[38;5;28;01mreturn\u001b[39;00m io_open(file, \u001b[38;5;241m*\u001b[39margs, \u001b[38;5;241m*\u001b[39m\u001b[38;5;241m*\u001b[39mkwargs)\n",
      "\u001b[0;31mFileExistsError\u001b[0m: [Errno 17] File exists: 'sample.txt'"
     ]
    }
   ],
   "source": [
    "obj=open(\"sample.txt\",'x')\n",
    "data='\\nWelcome to the text file.'\n",
    "\n",
    "\n",
    "obj.write(data)\n",
    "obj.close()\n"
   ]
  },
  {
   "cell_type": "code",
   "execution_count": 24,
   "id": "66316a2a",
   "metadata": {},
   "outputs": [],
   "source": [
    "obj=open(\"sample2.txt\",'x')\n",
    "data='\\nWelcome to the text file.'\n",
    "\n",
    "\n",
    "obj.write(data)\n",
    "obj.close()\n"
   ]
  },
  {
   "cell_type": "code",
   "execution_count": 27,
   "id": "d990819e",
   "metadata": {},
   "outputs": [
    {
     "name": "stdout",
     "output_type": "stream",
     "text": [
      "r\n",
      "Hello!! how are you\n",
      " Kyaa haal chaal What's your opinion on AI will it take human jobs or not \n",
      "if Yes then Job crises are going to happen a lot. \n",
      "And AI is not safe it'll definitely be going \n",
      "to do your work easily but\n",
      "when you get things very easily then it is not safe.\n",
      " What's your opinion on AI will it take human jobs or not \n",
      "if Yes then Job crises are going to happen a lot. \n",
      "And AI is not safe it'll definitely be going \n",
      "to do your work easily but\n",
      "when you get things very easily then it is not safe. What's your opinion on AI will it take human jobs or not \n",
      "if Yes then Job crises are going to happen a lot. \n",
      "And AI is not safe it'll definitely be going \n",
      "to do your work easily but\n",
      "when you get things very easily then it is not safe. What's your opinion on AI will it take human jobs or not \n",
      "if Yes then Job crises are going to happen a lot. \n",
      "And AI is not safe it'll definitely be going \n",
      "to do your work easily but\n",
      "when you get things very easily then it is not safe. What's your opinion on AI will it take human jobs or not \n",
      "if Yes then Job crises are going to happen a lot. \n",
      "And AI is not safe it'll definitely be going \n",
      "to do your work easily but\n",
      "when you get things very easily then it is not safe. What's your opinion on AI will it take human jobs or not \n",
      "if Yes then Job crises are going to happen a lot. \n",
      "And AI is not safe it'll definitely be going \n",
      "to do your work easily but\n",
      "when you get things very easily then it is not safe.\n",
      "Welcome to the text file.\n",
      "Welcome to the text file.\n"
     ]
    }
   ],
   "source": [
    "obj=open(\"sample.txt\")\n",
    "print(obj.mode)\n",
    "print(obj.read())\n",
    "obj.close()\n"
   ]
  },
  {
   "cell_type": "code",
   "execution_count": null,
   "id": "858c9f88",
   "metadata": {},
   "outputs": [],
   "source": []
  },
  {
   "cell_type": "code",
   "execution_count": null,
   "id": "c9d46742",
   "metadata": {},
   "outputs": [],
   "source": []
  },
  {
   "cell_type": "code",
   "execution_count": null,
   "id": "da9c6e5f",
   "metadata": {},
   "outputs": [],
   "source": []
  },
  {
   "cell_type": "code",
   "execution_count": 30,
   "id": "416cf3b1",
   "metadata": {},
   "outputs": [
    {
     "name": "stdout",
     "output_type": "stream",
     "text": [
      "Data Written data succesfully\n",
      "Welcome to the File handling\n"
     ]
    }
   ],
   "source": [
    "with open(\"sam.txt\",'w') as file:\n",
    "    file.write(\"Welcome to the File handling\")\n",
    "print(\"Data Written data succesfully\")    \n",
    "obj=open(\"sam.txt\",'r')\n",
    "\n",
    "print(obj.read())"
   ]
  },
  {
   "cell_type": "code",
   "execution_count": null,
   "id": "1427ea20",
   "metadata": {},
   "outputs": [],
   "source": []
  },
  {
   "cell_type": "code",
   "execution_count": null,
   "id": "456a2425",
   "metadata": {},
   "outputs": [],
   "source": []
  },
  {
   "cell_type": "code",
   "execution_count": null,
   "id": "0bb37839",
   "metadata": {},
   "outputs": [],
   "source": []
  },
  {
   "cell_type": "code",
   "execution_count": null,
   "id": "9c3f5080",
   "metadata": {},
   "outputs": [],
   "source": []
  },
  {
   "cell_type": "code",
   "execution_count": 31,
   "id": "bca6d9b4",
   "metadata": {},
   "outputs": [
    {
     "name": "stdout",
     "output_type": "stream",
     "text": [
      "Data Written data succesfully\n",
      "\n"
     ]
    }
   ],
   "source": [
    "#file is closed that's why we cann't read the data\n",
    "\n",
    "with open(\"sam.txt\",'w') as file:\n",
    "    file.write(\"Welcome to the File handling\")\n",
    "    print(\"Data Written data succesfully\")    \n",
    "    obj=open(\"sam.txt\",'r')\n",
    "\n",
    "    print(obj.read())"
   ]
  },
  {
   "cell_type": "code",
   "execution_count": null,
   "id": "69cdfe8e",
   "metadata": {},
   "outputs": [],
   "source": []
  },
  {
   "cell_type": "code",
   "execution_count": null,
   "id": "c40a9dd1",
   "metadata": {},
   "outputs": [],
   "source": []
  },
  {
   "cell_type": "code",
   "execution_count": null,
   "id": "2c2ff619",
   "metadata": {},
   "outputs": [],
   "source": []
  },
  {
   "cell_type": "code",
   "execution_count": null,
   "id": "d6c2275d",
   "metadata": {},
   "outputs": [],
   "source": []
  }
 ],
 "metadata": {
  "kernelspec": {
   "display_name": "Python 3 (ipykernel)",
   "language": "python",
   "name": "python3"
  },
  "language_info": {
   "codemirror_mode": {
    "name": "ipython",
    "version": 3
   },
   "file_extension": ".py",
   "mimetype": "text/x-python",
   "name": "python",
   "nbconvert_exporter": "python",
   "pygments_lexer": "ipython3",
   "version": "3.11.3"
  }
 },
 "nbformat": 4,
 "nbformat_minor": 5
}
