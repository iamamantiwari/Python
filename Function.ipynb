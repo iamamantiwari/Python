{
 "cells": [
  {
   "cell_type": "markdown",
   "id": "7addb0f2",
   "metadata": {},
   "source": [
    "In function 'def' is keyword\n",
    "\n",
    "    "
   ]
  },
  {
   "cell_type": "code",
   "execution_count": 5,
   "id": "19c74b4b",
   "metadata": {},
   "outputs": [
    {
     "name": "stdout",
     "output_type": "stream",
     "text": [
      "Enter any Number23\n",
      "Enter any number23\n",
      "46\n"
     ]
    }
   ],
   "source": [
    "# FUNCTION with no argument & no return value\n",
    "\n",
    "\n",
    "def view():\n",
    "    num=int(input(\"Enter any Number\"))\n",
    "    num2=int(input(\"Enter any number\"))\n",
    "    \n",
    "    num3=num+num2\n",
    "    print(num3)\n",
    "view()"
   ]
  },
  {
   "cell_type": "code",
   "execution_count": 10,
   "id": "4b4cf042",
   "metadata": {},
   "outputs": [
    {
     "name": "stdout",
     "output_type": "stream",
     "text": [
      "Add:- 41 Minus:- -1 Mul:- 420\n"
     ]
    }
   ],
   "source": [
    "def view(num1=20,num2=21):\n",
    "    add=num1+num2\n",
    "    minus=num1-num2\n",
    "    mul=num1*num2\n",
    "    print(\"Add:-\",add,\"Minus:-\",minus,\"Mul:-\",mul)\n",
    "\n",
    "view()    "
   ]
  },
  {
   "cell_type": "code",
   "execution_count": 14,
   "id": "c9538984",
   "metadata": {},
   "outputs": [
    {
     "name": "stdout",
     "output_type": "stream",
     "text": [
      "Add:- 33.4\n"
     ]
    }
   ],
   "source": [
    "def view(num,num2):    \n",
    "    num3=num+num2\n",
    "    print(\"Add:-\",num3)\n",
    "view(10,23.4)"
   ]
  },
  {
   "cell_type": "code",
   "execution_count": 21,
   "id": "3bbe524f",
   "metadata": {},
   "outputs": [
    {
     "name": "stdout",
     "output_type": "stream",
     "text": [
      "Enter any number57\n",
      "Enter any number6\n",
      "Add:- 63\n"
     ]
    }
   ],
   "source": [
    "def view(num,num2):    \n",
    "    num3=num+num2\n",
    "    print(\"Add:-\",num3)\n",
    "    \n",
    "x=int(input(\"Enter any number\")) \n",
    "y=int(input(\"Enter any number\")) \n",
    "    \n",
    "view(x,y)"
   ]
  },
  {
   "cell_type": "code",
   "execution_count": null,
   "id": "0bbb99e0",
   "metadata": {},
   "outputs": [],
   "source": []
  },
  {
   "cell_type": "code",
   "execution_count": null,
   "id": "2e585279",
   "metadata": {},
   "outputs": [],
   "source": []
  },
  {
   "cell_type": "code",
   "execution_count": null,
   "id": "3870ac56",
   "metadata": {},
   "outputs": [],
   "source": [
    "\n"
   ]
  },
  {
   "cell_type": "code",
   "execution_count": 22,
   "id": "e23297b1",
   "metadata": {},
   "outputs": [
    {
     "name": "stdout",
     "output_type": "stream",
     "text": [
      "Add:- 40\n",
      "Welcome\n",
      "Add:- 40\n"
     ]
    }
   ],
   "source": [
    "def view(a,b):\n",
    "    c=a+b\n",
    "    return c\n",
    "\n",
    "result=view(10,30)\n",
    "print(\"Add:-\",result)\n",
    "\n",
    "print(\"Welcome\")\n",
    "\n",
    "print(\"Add:-\",result)"
   ]
  },
  {
   "cell_type": "code",
   "execution_count": 23,
   "id": "3384adf1",
   "metadata": {},
   "outputs": [
    {
     "name": "stdout",
     "output_type": "stream",
     "text": [
      "Add:- 30\n"
     ]
    }
   ],
   "source": [
    " def view():\n",
    "    a=10\n",
    "    b=20\n",
    "    c=a+b\n",
    "    return c\n",
    "\n",
    "result=view()\n",
    "print(\"Add:-\",result)\n"
   ]
  },
  {
   "cell_type": "code",
   "execution_count": 20,
   "id": "49cec4cd",
   "metadata": {},
   "outputs": [
    {
     "name": "stdout",
     "output_type": "stream",
     "text": [
      "Enter any number30\n",
      "Enter any number40\n",
      "Add:- 70\n"
     ]
    }
   ],
   "source": [
    " def view():\n",
    "    a=int(input(\"Enter any number\"))\n",
    "    b=int(input(\"Enter any number\"))\n",
    "    c=a+b\n",
    "    return c\n",
    "\n",
    "result=view()\n",
    "print(\"Add:-\",result)\n"
   ]
  },
  {
   "cell_type": "code",
   "execution_count": null,
   "id": "6f196180",
   "metadata": {},
   "outputs": [],
   "source": []
  },
  {
   "cell_type": "code",
   "execution_count": null,
   "id": "822e66bd",
   "metadata": {},
   "outputs": [],
   "source": []
  },
  {
   "cell_type": "code",
   "execution_count": null,
   "id": "62aebd58",
   "metadata": {},
   "outputs": [],
   "source": []
  },
  {
   "cell_type": "code",
   "execution_count": null,
   "id": "277f824c",
   "metadata": {},
   "outputs": [],
   "source": []
  },
  {
   "cell_type": "code",
   "execution_count": 24,
   "id": "43bc799b",
   "metadata": {},
   "outputs": [
    {
     "name": "stdout",
     "output_type": "stream",
     "text": [
      "False\n"
     ]
    }
   ],
   "source": [
    "#Walrus operator\n",
    "\n",
    "\n",
    "a=False\n",
    "print(a)"
   ]
  },
  {
   "cell_type": "code",
   "execution_count": 25,
   "id": "01dacfd0",
   "metadata": {},
   "outputs": [
    {
     "name": "stdout",
     "output_type": "stream",
     "text": [
      "True\n"
     ]
    }
   ],
   "source": [
    "print(a:=True)\n"
   ]
  },
  {
   "cell_type": "code",
   "execution_count": null,
   "id": "70b67906",
   "metadata": {},
   "outputs": [],
   "source": []
  }
 ],
 "metadata": {
  "kernelspec": {
   "display_name": "Python 3 (ipykernel)",
   "language": "python",
   "name": "python3"
  },
  "language_info": {
   "codemirror_mode": {
    "name": "ipython",
    "version": 3
   },
   "file_extension": ".py",
   "mimetype": "text/x-python",
   "name": "python",
   "nbconvert_exporter": "python",
   "pygments_lexer": "ipython3",
   "version": "3.11.3"
  }
 },
 "nbformat": 4,
 "nbformat_minor": 5
}
