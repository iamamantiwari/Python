{
 "cells": [
  {
   "cell_type": "markdown",
   "id": "7bf65617",
   "metadata": {},
   "source": [
    "# Indexing"
   ]
  },
  {
   "cell_type": "code",
   "execution_count": 5,
   "id": "b4ee775a",
   "metadata": {},
   "outputs": [
    {
     "name": "stdout",
     "output_type": "stream",
     "text": [
      "l\n"
     ]
    }
   ],
   "source": [
    "str=\"Hello\"\n",
    "print(str[3])\n"
   ]
  },
  {
   "cell_type": "code",
   "execution_count": 9,
   "id": "f192ae9e",
   "metadata": {},
   "outputs": [
    {
     "name": "stdout",
     "output_type": "stream",
     "text": [
      "H\n"
     ]
    }
   ],
   "source": [
    "print(str[-5])"
   ]
  },
  {
   "cell_type": "code",
   "execution_count": null,
   "id": "2caa9a32",
   "metadata": {},
   "outputs": [],
   "source": []
  },
  {
   "cell_type": "markdown",
   "id": "8f9d8e29",
   "metadata": {},
   "source": [
    "# Slicing\n"
   ]
  },
  {
   "cell_type": "code",
   "execution_count": 12,
   "id": "2a6dec96",
   "metadata": {},
   "outputs": [
    {
     "name": "stdout",
     "output_type": "stream",
     "text": [
      "Welcome to sli\n"
     ]
    }
   ],
   "source": [
    "str1=\"Welcome to slicing\"\n",
    "print(str1[0:14])"
   ]
  },
  {
   "cell_type": "code",
   "execution_count": 13,
   "id": "a26a11f6",
   "metadata": {},
   "outputs": [
    {
     "name": "stdout",
     "output_type": "stream",
     "text": [
      "Welcome to sli\n"
     ]
    }
   ],
   "source": [
    "print(str1[:14])"
   ]
  },
  {
   "cell_type": "code",
   "execution_count": 14,
   "id": "73569a97",
   "metadata": {},
   "outputs": [
    {
     "name": "stdout",
     "output_type": "stream",
     "text": [
      "lcome to sli\n"
     ]
    }
   ],
   "source": [
    "print(str1[2:14])"
   ]
  },
  {
   "cell_type": "code",
   "execution_count": 15,
   "id": "8a059963",
   "metadata": {},
   "outputs": [
    {
     "name": "stdout",
     "output_type": "stream",
     "text": [
      "Welcome to slicing\n"
     ]
    }
   ],
   "source": [
    "print(str1[:])"
   ]
  },
  {
   "cell_type": "code",
   "execution_count": 18,
   "id": "de025afc",
   "metadata": {},
   "outputs": [
    {
     "name": "stdout",
     "output_type": "stream",
     "text": [
      "Wloet lcn\n"
     ]
    }
   ],
   "source": [
    "print(str1[0:19:2])"
   ]
  },
  {
   "cell_type": "code",
   "execution_count": 22,
   "id": "c09d82b6",
   "metadata": {},
   "outputs": [
    {
     "name": "stdout",
     "output_type": "stream",
     "text": [
      "Welcome to slicin\n"
     ]
    }
   ],
   "source": [
    "print(str1[-18:-1])"
   ]
  },
  {
   "cell_type": "code",
   "execution_count": 23,
   "id": "21ae621f",
   "metadata": {},
   "outputs": [
    {
     "name": "stdout",
     "output_type": "stream",
     "text": [
      "Welcome to slicing\n"
     ]
    }
   ],
   "source": [
    "print(str1[-18:19])"
   ]
  },
  {
   "cell_type": "code",
   "execution_count": 35,
   "id": "2328bba5",
   "metadata": {},
   "outputs": [
    {
     "name": "stdout",
     "output_type": "stream",
     "text": [
      "olleH\n"
     ]
    }
   ],
   "source": [
    "#Backward  Slicing\n",
    "\n",
    "str2=\"Hello\"\n",
    "print(str2[-1:-7:-1])  #You have give 3 value in slicing while backward slicing otherwise it will not print any thing "
   ]
  },
  {
   "cell_type": "code",
   "execution_count": 36,
   "id": "d4321822",
   "metadata": {},
   "outputs": [
    {
     "name": "stdout",
     "output_type": "stream",
     "text": [
      "olleH\n"
     ]
    }
   ],
   "source": [
    "print(str2[::-1])"
   ]
  },
  {
   "cell_type": "code",
   "execution_count": null,
   "id": "2c7f8ba0",
   "metadata": {},
   "outputs": [],
   "source": []
  },
  {
   "cell_type": "code",
   "execution_count": 37,
   "id": "0a4b982b",
   "metadata": {},
   "outputs": [
    {
     "name": "stdout",
     "output_type": "stream",
     "text": [
      "\n"
     ]
    }
   ],
   "source": [
    "print(str2[2:6:-1])"
   ]
  },
  {
   "cell_type": "code",
   "execution_count": 38,
   "id": "ae3823d6",
   "metadata": {},
   "outputs": [
    {
     "ename": "ValueError",
     "evalue": "slice step cannot be zero",
     "output_type": "error",
     "traceback": [
      "\u001b[0;31m---------------------------------------------------------------------------\u001b[0m",
      "\u001b[0;31mValueError\u001b[0m                                Traceback (most recent call last)",
      "Cell \u001b[0;32mIn[38], line 1\u001b[0m\n\u001b[0;32m----> 1\u001b[0m \u001b[38;5;28mprint\u001b[39m(str2[\u001b[38;5;241m0\u001b[39m:\u001b[38;5;241m6\u001b[39m:\u001b[38;5;241m0\u001b[39m])\n",
      "\u001b[0;31mValueError\u001b[0m: slice step cannot be zero"
     ]
    }
   ],
   "source": [
    "print(str2[0:6:0]) #We cann't give zero in step "
   ]
  },
  {
   "cell_type": "code",
   "execution_count": 1,
   "id": "51776722",
   "metadata": {},
   "outputs": [
    {
     "name": "stdout",
     "output_type": "stream",
     "text": [
      "False\n"
     ]
    }
   ],
   "source": [
    "# .endswith( String,begin,end)  \n",
    "\n",
    "\n",
    "str1=\"Hello To World\"\n",
    "print(str1.endswith(\"Hello\"))"
   ]
  },
  {
   "cell_type": "code",
   "execution_count": 2,
   "id": "df745ce6",
   "metadata": {},
   "outputs": [
    {
     "name": "stdout",
     "output_type": "stream",
     "text": [
      "True\n"
     ]
    }
   ],
   "source": [
    "print(str1.endswith(\"World\"))"
   ]
  },
  {
   "cell_type": "code",
   "execution_count": 3,
   "id": "3822c900",
   "metadata": {},
   "outputs": [
    {
     "name": "stdout",
     "output_type": "stream",
     "text": [
      "True\n"
     ]
    }
   ],
   "source": [
    "print(str1.endswith(\"llo\",0,5))"
   ]
  },
  {
   "cell_type": "code",
   "execution_count": 4,
   "id": "229488fb",
   "metadata": {},
   "outputs": [
    {
     "name": "stdout",
     "output_type": "stream",
     "text": [
      "True\n"
     ]
    }
   ],
   "source": [
    "# .startswith(String, begin ,end) searching string should be at starting point.First paratmeter should be mendatotry \n",
    "\n",
    "print(str1.startswith(\"Hello\"))"
   ]
  },
  {
   "cell_type": "code",
   "execution_count": 5,
   "id": "8e71560a",
   "metadata": {},
   "outputs": [
    {
     "name": "stdout",
     "output_type": "stream",
     "text": [
      "False\n"
     ]
    }
   ],
   "source": [
    "print(str1.startswith(\"World\"))"
   ]
  },
  {
   "cell_type": "code",
   "execution_count": null,
   "id": "2e84ea8b",
   "metadata": {},
   "outputs": [],
   "source": []
  },
  {
   "cell_type": "code",
   "execution_count": 6,
   "id": "cd5494ad",
   "metadata": {},
   "outputs": [
    {
     "name": "stdout",
     "output_type": "stream",
     "text": [
      "0\n"
     ]
    }
   ],
   "source": [
    "# .find (string,begin, end)\n",
    "\n",
    "print(str1.find(\"Hello\"))"
   ]
  },
  {
   "cell_type": "code",
   "execution_count": 7,
   "id": "d4ac20f9",
   "metadata": {},
   "outputs": [
    {
     "name": "stdout",
     "output_type": "stream",
     "text": [
      "False\n"
     ]
    }
   ],
   "source": [
    "print(str1.startswith(\"To\"))"
   ]
  },
  {
   "cell_type": "code",
   "execution_count": 8,
   "id": "548db5e6",
   "metadata": {},
   "outputs": [
    {
     "name": "stdout",
     "output_type": "stream",
     "text": [
      "0\n"
     ]
    }
   ],
   "source": [
    "# .index \n",
    "\n",
    "print(str1.index(\"Hello\"))"
   ]
  },
  {
   "cell_type": "code",
   "execution_count": 9,
   "id": "a7080d98",
   "metadata": {},
   "outputs": [
    {
     "ename": "ValueError",
     "evalue": "substring not found",
     "output_type": "error",
     "traceback": [
      "\u001b[0;31m---------------------------------------------------------------------------\u001b[0m",
      "\u001b[0;31mValueError\u001b[0m                                Traceback (most recent call last)",
      "Cell \u001b[0;32mIn[9], line 1\u001b[0m\n\u001b[0;32m----> 1\u001b[0m \u001b[38;5;28mprint\u001b[39m(str1\u001b[38;5;241m.\u001b[39mindex(\u001b[38;5;124m'\u001b[39m\u001b[38;5;124mlo\u001b[39m\u001b[38;5;124m'\u001b[39m,\u001b[38;5;241m20\u001b[39m))\n",
      "\u001b[0;31mValueError\u001b[0m: substring not found"
     ]
    }
   ],
   "source": [
    "print(str1.index('lo',20))"
   ]
  },
  {
   "cell_type": "code",
   "execution_count": 11,
   "id": "9d3309bd",
   "metadata": {},
   "outputs": [
    {
     "name": "stdout",
     "output_type": "stream",
     "text": [
      "False\n",
      "False\n"
     ]
    }
   ],
   "source": [
    "# .isalnum\n",
    "\n",
    "str1=\"Hello World 3.5\"\n",
    "str2=\"Hello3.11\"\n",
    "print(str1.isalnum())\n",
    "print(str2.isalnum())"
   ]
  },
  {
   "cell_type": "code",
   "execution_count": 12,
   "id": "9a5a4544",
   "metadata": {},
   "outputs": [
    {
     "name": "stdout",
     "output_type": "stream",
     "text": [
      "False\n",
      "False\n"
     ]
    }
   ],
   "source": [
    "# .isalpha\n",
    "\n",
    "print(str1.isalpha())\n",
    "print(str2.isalpha())"
   ]
  },
  {
   "cell_type": "code",
   "execution_count": 13,
   "id": "a0d90f47",
   "metadata": {},
   "outputs": [
    {
     "name": "stdout",
     "output_type": "stream",
     "text": [
      "False\n",
      "False\n"
     ]
    }
   ],
   "source": [
    "# .isdigit\n",
    "\n",
    "print(str1.isdigit())\n",
    "print(str2.isdigit())"
   ]
  },
  {
   "cell_type": "code",
   "execution_count": 15,
   "id": "76d3a41b",
   "metadata": {},
   "outputs": [
    {
     "name": "stdout",
     "output_type": "stream",
     "text": [
      "False\n",
      "True\n"
     ]
    }
   ],
   "source": [
    "# .islower\n",
    "\n",
    "str2=\"hello 2.55\"\n",
    "print(str1.islower())\n",
    "print(str2.islower())"
   ]
  },
  {
   "cell_type": "code",
   "execution_count": 18,
   "id": "e3ed441f",
   "metadata": {},
   "outputs": [
    {
     "name": "stdout",
     "output_type": "stream",
     "text": [
      "False\n",
      "True\n"
     ]
    }
   ],
   "source": [
    "# .isupper\n",
    "\n",
    "str2=\"HELLO\"\n",
    "print(str1.isupper())\n",
    "print(str2.isupper())"
   ]
  },
  {
   "cell_type": "code",
   "execution_count": 20,
   "id": "3fa4bed6",
   "metadata": {},
   "outputs": [
    {
     "name": "stdout",
     "output_type": "stream",
     "text": [
      "False\n"
     ]
    }
   ],
   "source": [
    "# .isspace\n",
    "\n",
    "str1=\"Welcome to Python\"\n",
    "\n",
    "print(str1.isspace())"
   ]
  },
  {
   "cell_type": "code",
   "execution_count": 21,
   "id": "16035a14",
   "metadata": {},
   "outputs": [
    {
     "name": "stdout",
     "output_type": "stream",
     "text": [
      "welcome to python\n",
      "hello\n"
     ]
    }
   ],
   "source": [
    "# .lower\n",
    "\n",
    "print(str1.lower())\n",
    "print(str2.lower())"
   ]
  },
  {
   "cell_type": "code",
   "execution_count": 22,
   "id": "0542b483",
   "metadata": {},
   "outputs": [
    {
     "name": "stdout",
     "output_type": "stream",
     "text": [
      "WELCOME TO PYTHON\n",
      "HELLO\n"
     ]
    }
   ],
   "source": [
    "# .upper\n",
    "\n",
    "print(str1.upper())\n",
    "print(str2.upper())"
   ]
  },
  {
   "cell_type": "code",
   "execution_count": 23,
   "id": "8574c724",
   "metadata": {},
   "outputs": [
    {
     "name": "stdout",
     "output_type": "stream",
     "text": [
      "hELLO world\n",
      "HELLO\n"
     ]
    }
   ],
   "source": [
    "# .swapcase\n",
    "\n",
    "str1=\"Hello WORLD\"\n",
    "str2='hello'\n",
    "print(str1.swapcase())\n",
    "print(str2.swapcase())"
   ]
  },
  {
   "cell_type": "code",
   "execution_count": 24,
   "id": "dabcc6df",
   "metadata": {},
   "outputs": [
    {
     "name": "stdout",
     "output_type": "stream",
     "text": [
      "Lorem ipsum, dolor sit amet consectetur JAVA elit. \n",
      "Eaque incidunt ut dolores ipsa expedita, \n",
      "doloremque nemo. JAVA modi alias id magni sapiente, JAVA, \n",
      "tempora aperiam dolor minima JAVA voluptates minus.\n"
     ]
    }
   ],
   "source": [
    "# .replace\n",
    "\n",
    "str1='''Lorem ipsum, dolor sit amet consectetur python elit. \n",
    "Eaque incidunt ut dolores ipsa expedita, \n",
    "doloremque nemo. python modi alias id magni sapiente, python, \n",
    "tempora aperiam dolor minima python voluptates minus.'''\n",
    "\n",
    "print(str1.replace(\"python\",\"JAVA\"))"
   ]
  },
  {
   "cell_type": "code",
   "execution_count": 25,
   "id": "0581d607",
   "metadata": {},
   "outputs": [
    {
     "name": "stdout",
     "output_type": "stream",
     "text": [
      "Lorem ipsum, dolor sit amet consectetur JAVA elit. \n",
      "Eaque incidunt ut dolores ipsa expedita, \n",
      "doloremque nemo. JAVA modi alias id magni sapiente, python, \n",
      "tempora aperiam dolor minima python voluptates minus.\n"
     ]
    }
   ],
   "source": [
    "print(str1.replace(\"python\",\"JAVA\",2))"
   ]
  },
  {
   "cell_type": "code",
   "execution_count": 26,
   "id": "c847119b",
   "metadata": {},
   "outputs": [
    {
     "name": "stdout",
     "output_type": "stream",
     "text": [
      "Lorem ipsum, dolor sit amet consectetur  elit. \n",
      "Eaque incidunt ut dolores ipsa expedita, \n",
      "doloremque nemo.  modi alias id magni sapiente, , \n",
      "tempora aperiam dolor minima  voluptates minus.\n"
     ]
    }
   ],
   "source": [
    "print(str1.replace(\"python\",\"\")) #To remove the specific word or char."
   ]
  },
  {
   "cell_type": "code",
   "execution_count": 27,
   "id": "6fe1a01c",
   "metadata": {},
   "outputs": [
    {
     "data": {
      "text/plain": [
       "212"
      ]
     },
     "execution_count": 27,
     "metadata": {},
     "output_type": "execute_result"
    }
   ],
   "source": [
    "#  len\n",
    "\n",
    "len(str1)"
   ]
  },
  {
   "cell_type": "code",
   "execution_count": null,
   "id": "f1c3716c",
   "metadata": {},
   "outputs": [],
   "source": []
  },
  {
   "cell_type": "code",
   "execution_count": null,
   "id": "51ed880c",
   "metadata": {},
   "outputs": [],
   "source": []
  },
  {
   "cell_type": "code",
   "execution_count": null,
   "id": "b8163bd2",
   "metadata": {},
   "outputs": [],
   "source": []
  },
  {
   "cell_type": "code",
   "execution_count": 28,
   "id": "9e81a734",
   "metadata": {},
   "outputs": [
    {
     "name": "stdout",
     "output_type": "stream",
     "text": [
      "hello  \n",
      "Hello!!!!\n"
     ]
    }
   ],
   "source": [
    "# .lstrip (left strip)\n",
    "\n",
    "str1=\"     hello  \"\n",
    "str2=\"@@@@@@@Hello!!!!\"\n",
    "print(str1.lstrip())\n",
    "print(str2.lstrip(\"@\"))"
   ]
  },
  {
   "cell_type": "code",
   "execution_count": 29,
   "id": "808ca5fc",
   "metadata": {},
   "outputs": [
    {
     "name": "stdout",
     "output_type": "stream",
     "text": [
      "     hello\n",
      "@@@@@@@Hello\n"
     ]
    }
   ],
   "source": [
    "# .rstrip ( Right Strip)\n",
    "\n",
    "\n",
    "print(str1.rstrip())\n",
    "print(str2.rstrip(\"!\"))\n"
   ]
  },
  {
   "cell_type": "code",
   "execution_count": 38,
   "id": "e4067c2f",
   "metadata": {},
   "outputs": [
    {
     "name": "stdout",
     "output_type": "stream",
     "text": [
      "hello\n",
      "Hello\n"
     ]
    }
   ],
   "source": [
    "# .strip\n",
    "\n",
    "\n",
    "str1=\"     hello  \"\n",
    "str2=\"@@@@@@@Hello@@@@\"\n",
    "\n",
    "print(str1.strip())\n",
    "print(str2.replace(\"@\",\"\"))"
   ]
  },
  {
   "cell_type": "code",
   "execution_count": 39,
   "id": "a64541d0",
   "metadata": {},
   "outputs": [
    {
     "name": "stdout",
     "output_type": "stream",
     "text": [
      "Hello_ Welcome\n"
     ]
    }
   ],
   "source": [
    "# .join\n",
    "\n",
    "\n",
    "str1=\"Hello\"\n",
    "str2=\"Welcome\"\n",
    "print(\"_ \".join([str1,str2]))"
   ]
  },
  {
   "cell_type": "code",
   "execution_count": 41,
   "id": "4ea8bbd4",
   "metadata": {},
   "outputs": [
    {
     "name": "stdout",
     "output_type": "stream",
     "text": [
      "['Welcome', 'home', 'Buddy.', 'Have', 'fun']\n"
     ]
    }
   ],
   "source": [
    "# .split\n",
    "\n",
    "str=\"Welcome home Buddy. Have fun\"\n",
    "print(str.split())"
   ]
  },
  {
   "cell_type": "code",
   "execution_count": 42,
   "id": "97e12c0e",
   "metadata": {},
   "outputs": [
    {
     "name": "stdout",
     "output_type": "stream",
     "text": [
      "['Welc', 'me h', 'me Buddy. Have fun']\n"
     ]
    }
   ],
   "source": [
    "print(str.split('o'))"
   ]
  },
  {
   "cell_type": "code",
   "execution_count": null,
   "id": "61b9c1bf",
   "metadata": {},
   "outputs": [],
   "source": []
  }
 ],
 "metadata": {
  "kernelspec": {
   "display_name": "Python 3 (ipykernel)",
   "language": "python",
   "name": "python3"
  },
  "language_info": {
   "codemirror_mode": {
    "name": "ipython",
    "version": 3
   },
   "file_extension": ".py",
   "mimetype": "text/x-python",
   "name": "python",
   "nbconvert_exporter": "python",
   "pygments_lexer": "ipython3",
   "version": "3.11.3"
  }
 },
 "nbformat": 4,
 "nbformat_minor": 5
}
