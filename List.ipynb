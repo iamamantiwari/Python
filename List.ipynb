{
 "cells": [
  {
   "cell_type": "markdown",
   "id": "dd0732a4",
   "metadata": {},
   "source": [
    "# List Data Type in python"
   ]
  },
  {
   "cell_type": "code",
   "execution_count": 2,
   "id": "f9b1e5fc",
   "metadata": {},
   "outputs": [
    {
     "name": "stdout",
     "output_type": "stream",
     "text": [
      "[1, 2, 3, 4, 45]\n",
      "['x', 'y', 'z', 'hello']\n",
      "['Aman', 1, 3.4, 45, 55.7]\n",
      "[22.4, 45.6, 2.4, 5.6]\n"
     ]
    }
   ],
   "source": [
    "my_list=[1,2,3,4,45]\n",
    "my_list2=['x','y','z','hello']\n",
    "my_list3=['Aman',1,3.4,45,55.7]\n",
    "my_list4=[22.4,45.6,2.4,5.6]\n",
    "print(my_list)\n",
    "print(my_list2)\n",
    "print(my_list3)\n",
    "print(my_list4)"
   ]
  },
  {
   "cell_type": "code",
   "execution_count": 5,
   "id": "307cf82e",
   "metadata": {},
   "outputs": [
    {
     "name": "stdout",
     "output_type": "stream",
     "text": [
      "[1, 2, 3, 4, 45, 'x', 'y', 'z', 'hello']\n"
     ]
    }
   ],
   "source": [
    "#List Concatenate Operator (+)\n",
    "\n",
    "my_list5=my_list+my_list2\n",
    "print(my_list5)"
   ]
  },
  {
   "cell_type": "code",
   "execution_count": 7,
   "id": "79fd64d0",
   "metadata": {},
   "outputs": [
    {
     "name": "stdout",
     "output_type": "stream",
     "text": [
      "[1, 2, 2, 4, 45]\n",
      "[1, 2, 'Aman', 4, 45]\n"
     ]
    }
   ],
   "source": [
    "#Updating of List Element\n",
    "\n",
    "print(my_list)\n",
    "my_list[2]='Aman'\n",
    "print(my_list)"
   ]
  },
  {
   "cell_type": "code",
   "execution_count": 9,
   "id": "b938c014",
   "metadata": {},
   "outputs": [
    {
     "name": "stdout",
     "output_type": "stream",
     "text": [
      "['Aman', 'Hello']\n"
     ]
    }
   ],
   "source": [
    "# Deleting of List element\n",
    "\n",
    "data=[2,34,5,6.7,77.3,'Aman','Hello']\n",
    "del data[0]\n",
    "del data[0:4]\n",
    "print(data)"
   ]
  },
  {
   "cell_type": "code",
   "execution_count": 10,
   "id": "c9467dea",
   "metadata": {},
   "outputs": [
    {
     "name": "stdout",
     "output_type": "stream",
     "text": [
      "[]\n"
     ]
    }
   ],
   "source": [
    "# .clear() method\n",
    "\n",
    "data.clear()\n",
    "print(data)"
   ]
  },
  {
   "cell_type": "code",
   "execution_count": 11,
   "id": "3773f44b",
   "metadata": {},
   "outputs": [
    {
     "name": "stdout",
     "output_type": "stream",
     "text": [
      "[1, 2, 'Aman', 4, 45]\n"
     ]
    }
   ],
   "source": [
    "print(my_list)"
   ]
  },
  {
   "cell_type": "code",
   "execution_count": 12,
   "id": "20e862a6",
   "metadata": {},
   "outputs": [],
   "source": [
    "#Appending of List Element\n",
    "\n",
    "my_list.append('Hello')"
   ]
  },
  {
   "cell_type": "code",
   "execution_count": 13,
   "id": "ed22335f",
   "metadata": {},
   "outputs": [
    {
     "name": "stdout",
     "output_type": "stream",
     "text": [
      "[1, 2, 'Aman', 4, 45, 'Hello']\n"
     ]
    }
   ],
   "source": [
    "print(my_list)"
   ]
  },
  {
   "cell_type": "code",
   "execution_count": null,
   "id": "686aeb1a",
   "metadata": {},
   "outputs": [],
   "source": []
  },
  {
   "cell_type": "code",
   "execution_count": null,
   "id": "cc3101fb",
   "metadata": {},
   "outputs": [],
   "source": []
  },
  {
   "cell_type": "markdown",
   "id": "667ffecb",
   "metadata": {},
   "source": [
    "# List Handling Functions & Methods "
   ]
  },
  {
   "cell_type": "code",
   "execution_count": 14,
   "id": "2c568338",
   "metadata": {},
   "outputs": [
    {
     "name": "stdout",
     "output_type": "stream",
     "text": [
      "1\n"
     ]
    }
   ],
   "source": [
    "# min(list)\n",
    "\n",
    "data=[1,4,6,2,8,2,90,223]\n",
    "print(min(data))"
   ]
  },
  {
   "cell_type": "code",
   "execution_count": 15,
   "id": "c777fa85",
   "metadata": {},
   "outputs": [
    {
     "name": "stdout",
     "output_type": "stream",
     "text": [
      "223\n"
     ]
    }
   ],
   "source": [
    "# max(list)\n",
    "\n",
    "print(max(data))"
   ]
  },
  {
   "cell_type": "code",
   "execution_count": 21,
   "id": "bbdb1888",
   "metadata": {},
   "outputs": [
    {
     "name": "stdout",
     "output_type": "stream",
     "text": [
      "Anita\n"
     ]
    }
   ],
   "source": [
    "data2=['Anita','Aman','abhi']\n",
    "print(max(data2))"
   ]
  },
  {
   "cell_type": "code",
   "execution_count": 16,
   "id": "1291dcbc",
   "metadata": {},
   "outputs": [
    {
     "name": "stdout",
     "output_type": "stream",
     "text": [
      "8\n"
     ]
    }
   ],
   "source": [
    "# len()\n",
    "\n",
    "print(len(data))"
   ]
  },
  {
   "cell_type": "code",
   "execution_count": null,
   "id": "93e874ec",
   "metadata": {},
   "outputs": [],
   "source": []
  },
  {
   "cell_type": "code",
   "execution_count": 22,
   "id": "ec8e7a43",
   "metadata": {},
   "outputs": [
    {
     "name": "stdout",
     "output_type": "stream",
     "text": [
      "2\n"
     ]
    }
   ],
   "source": [
    "# Index Method\n",
    "\n",
    "print(data.index(6))"
   ]
  },
  {
   "cell_type": "code",
   "execution_count": 23,
   "id": "d95e5b07",
   "metadata": {},
   "outputs": [
    {
     "name": "stdout",
     "output_type": "stream",
     "text": [
      "5\n"
     ]
    }
   ],
   "source": [
    "# .count(object)\n",
    "\n",
    "data=[1,2,1,1,32,31,11,1,1]\n",
    "print(data.count(1))"
   ]
  },
  {
   "cell_type": "code",
   "execution_count": 33,
   "id": "b9ace9ce",
   "metadata": {
    "scrolled": false
   },
   "outputs": [
    {
     "data": {
      "text/plain": [
       "32"
      ]
     },
     "execution_count": 33,
     "metadata": {},
     "output_type": "execute_result"
    }
   ],
   "source": [
    "# .pop()/pop(index)\n",
    "\n",
    "\n",
    "data=[1,2,1,1,32,31,11,1,1]\n",
    "data.pop(4)"
   ]
  },
  {
   "cell_type": "code",
   "execution_count": 39,
   "id": "266060eb",
   "metadata": {},
   "outputs": [
    {
     "name": "stdout",
     "output_type": "stream",
     "text": [
      "[1, 2, 1]\n"
     ]
    }
   ],
   "source": [
    "data.pop()\n",
    "print(data)\n"
   ]
  },
  {
   "cell_type": "code",
   "execution_count": 54,
   "id": "ce1a0e5d",
   "metadata": {},
   "outputs": [
    {
     "name": "stdout",
     "output_type": "stream",
     "text": [
      "[1, 2, 1, 1, 'Aman', 32, 31, 11, 1, 1]\n",
      "[1, 2, 1, 1, 'Aman', 32, 31, 11, 1, 1, 'Aman']\n"
     ]
    }
   ],
   "source": [
    "# .insert(index,object)\n",
    "\n",
    "\n",
    "data=[1,2,1,1,32,31,11,1,1]\n",
    "data.insert(4,'Aman')\n",
    "print(data)\n",
    "\n",
    "t=len(data)\n",
    "data.insert(t,'Aman')\n",
    "print(data)\n"
   ]
  },
  {
   "cell_type": "code",
   "execution_count": 52,
   "id": "0cbb5615",
   "metadata": {},
   "outputs": [
    {
     "name": "stdout",
     "output_type": "stream",
     "text": [
      "[1, 2, 1, 1, 'Aman', 32, 31, 11, 1, 1, 'Aman']\n"
     ]
    }
   ],
   "source": [
    "print(data)"
   ]
  },
  {
   "cell_type": "code",
   "execution_count": 50,
   "id": "5e28e750",
   "metadata": {},
   "outputs": [
    {
     "name": "stdout",
     "output_type": "stream",
     "text": [
      "[1, 'Aman', 'Hello', 1, 1, 1, 2, 1, 1, 32, 31, 11, 1, 1]\n"
     ]
    }
   ],
   "source": [
    "# .extend\n",
    "data2=[1,2,1,1,32,31,11,1,1]\n",
    "data1=[1,'Aman','Hello',1,1]\n",
    "data1.extend(data2)\n",
    "print(data1)"
   ]
  },
  {
   "cell_type": "code",
   "execution_count": 51,
   "id": "7dcf5f8c",
   "metadata": {},
   "outputs": [
    {
     "name": "stdout",
     "output_type": "stream",
     "text": [
      "[1, 2, 1, 1, 'Aman', 32, 31, 11, 1, 1, 'Aman']\n"
     ]
    }
   ],
   "source": [
    "# .remove(object)\n",
    "\n",
    "\n",
    "print(data)"
   ]
  },
  {
   "cell_type": "code",
   "execution_count": 55,
   "id": "50e07280",
   "metadata": {},
   "outputs": [],
   "source": [
    "data.remove('Aman')"
   ]
  },
  {
   "cell_type": "code",
   "execution_count": 56,
   "id": "2029e88d",
   "metadata": {},
   "outputs": [
    {
     "name": "stdout",
     "output_type": "stream",
     "text": [
      "[1, 2, 1, 1, 32, 31, 11, 1, 1, 'Aman']\n"
     ]
    }
   ],
   "source": [
    "print(data)"
   ]
  },
  {
   "cell_type": "code",
   "execution_count": null,
   "id": "3ac88fd2",
   "metadata": {},
   "outputs": [],
   "source": []
  },
  {
   "cell_type": "code",
   "execution_count": 59,
   "id": "0ef7a7bd",
   "metadata": {},
   "outputs": [
    {
     "name": "stdout",
     "output_type": "stream",
     "text": [
      "['Aman', 1, 1, 11, 31, 32, 1, 1, 2, 1]\n"
     ]
    }
   ],
   "source": [
    "# .reverse()\n",
    "\n",
    "\n",
    "data.reverse()\n",
    "print(data)"
   ]
  },
  {
   "cell_type": "code",
   "execution_count": 62,
   "id": "1e6e6a72",
   "metadata": {},
   "outputs": [
    {
     "name": "stdout",
     "output_type": "stream",
     "text": [
      "[1, 2, 2, 6, 6, 9, 42, 53, 67, 341, 345]\n"
     ]
    }
   ],
   "source": [
    "# .sort()/ .sort(reverse=True)\n",
    "\n",
    "\n",
    "data=[1,2,345,67,53,42,341,6,9,2,6]\n",
    "data.sort()\n",
    "print(data)"
   ]
  },
  {
   "cell_type": "code",
   "execution_count": 63,
   "id": "915a058f",
   "metadata": {},
   "outputs": [
    {
     "name": "stdout",
     "output_type": "stream",
     "text": [
      "[345, 341, 67, 53, 42, 9, 6, 6, 2, 2, 1]\n"
     ]
    }
   ],
   "source": [
    "\n",
    "\n",
    "data.sort(reverse=True)\n",
    "print(data)"
   ]
  },
  {
   "cell_type": "code",
   "execution_count": null,
   "id": "73b0f53a",
   "metadata": {},
   "outputs": [],
   "source": []
  }
 ],
 "metadata": {
  "kernelspec": {
   "display_name": "Python 3 (ipykernel)",
   "language": "python",
   "name": "python3"
  },
  "language_info": {
   "codemirror_mode": {
    "name": "ipython",
    "version": 3
   },
   "file_extension": ".py",
   "mimetype": "text/x-python",
   "name": "python",
   "nbconvert_exporter": "python",
   "pygments_lexer": "ipython3",
   "version": "3.11.3"
  }
 },
 "nbformat": 4,
 "nbformat_minor": 5
}
