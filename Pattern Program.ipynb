{
 "cells": [
  {
   "cell_type": "code",
   "execution_count": 6,
   "id": "f0357f8c",
   "metadata": {},
   "outputs": [
    {
     "name": "stdout",
     "output_type": "stream",
     "text": [
      "* \n",
      "* * \n",
      "* * * \n",
      "* * * * \n",
      "* * * * * \n"
     ]
    }
   ],
   "source": [
    "for i in range(1,6):\n",
    "    for j in range(1,i+1):\n",
    "               print(\"*\",end=\" \")\n",
    "               \n",
    "    print()          "
   ]
  },
  {
   "cell_type": "code",
   "execution_count": null,
   "id": "a06fbbe8",
   "metadata": {},
   "outputs": [],
   "source": []
  },
  {
   "cell_type": "code",
   "execution_count": 7,
   "id": "ae1ff113",
   "metadata": {},
   "outputs": [
    {
     "name": "stdout",
     "output_type": "stream",
     "text": [
      "1 \n",
      "1 2 \n",
      "1 2 3 \n",
      "1 2 3 4 \n",
      "1 2 3 4 5 \n"
     ]
    }
   ],
   "source": [
    "for i in range(1,6):\n",
    "    for j in range(1,i+1):\n",
    "               print(j,end=\" \")\n",
    "               \n",
    "    print() "
   ]
  },
  {
   "cell_type": "code",
   "execution_count": 8,
   "id": "8d4fdcfd",
   "metadata": {},
   "outputs": [
    {
     "name": "stdout",
     "output_type": "stream",
     "text": [
      "1 \n",
      "2 2 \n",
      "3 3 3 \n",
      "4 4 4 4 \n",
      "5 5 5 5 5 \n"
     ]
    }
   ],
   "source": [
    "for i in range(1,6):\n",
    "    for j in range(1,i+1):\n",
    "               print(i,end=\" \")\n",
    "               \n",
    "    print()          "
   ]
  },
  {
   "cell_type": "code",
   "execution_count": 9,
   "id": "ecdc2d76",
   "metadata": {},
   "outputs": [
    {
     "name": "stdout",
     "output_type": "stream",
     "text": [
      "* * * * * \n",
      "* * * * * \n",
      "* * * * * \n",
      "* * * * * \n",
      "* * * * * \n"
     ]
    }
   ],
   "source": [
    "for i in range(1,6):\n",
    "    for j in range(1,6):\n",
    "               print(\"*\",end=\" \")\n",
    "               \n",
    "    print()          "
   ]
  },
  {
   "cell_type": "code",
   "execution_count": 10,
   "id": "c636a8d8",
   "metadata": {},
   "outputs": [
    {
     "name": "stdout",
     "output_type": "stream",
     "text": [
      "1 2 3 4 5 \n",
      "1 2 3 4 5 \n",
      "1 2 3 4 5 \n",
      "1 2 3 4 5 \n",
      "1 2 3 4 5 \n"
     ]
    }
   ],
   "source": [
    "for i in range(1,6):\n",
    "    for j in range(1,6):\n",
    "               print(j,end=\" \")\n",
    "               \n",
    "    print()  "
   ]
  },
  {
   "cell_type": "code",
   "execution_count": 11,
   "id": "a28f4033",
   "metadata": {},
   "outputs": [
    {
     "name": "stdout",
     "output_type": "stream",
     "text": [
      "1 1 1 1 1 \n",
      "2 2 2 2 2 \n",
      "3 3 3 3 3 \n",
      "4 4 4 4 4 \n",
      "5 5 5 5 5 \n"
     ]
    }
   ],
   "source": [
    "for i in range(1,6):\n",
    "    for j in range(1,6):\n",
    "               print(i,end=\" \")\n",
    "               \n",
    "    print() "
   ]
  },
  {
   "cell_type": "code",
   "execution_count": 13,
   "id": "457afd0a",
   "metadata": {},
   "outputs": [
    {
     "name": "stdout",
     "output_type": "stream",
     "text": [
      " *  *  *  *  * \n",
      " *  *  *  * \n",
      " *  *  * \n",
      " *  * \n",
      " * \n"
     ]
    }
   ],
   "source": [
    "for i in range(5):\n",
    "    print((5-i)* \" * \")"
   ]
  },
  {
   "cell_type": "code",
   "execution_count": 9,
   "id": "4149885d",
   "metadata": {},
   "outputs": [
    {
     "name": "stdout",
     "output_type": "stream",
     "text": [
      "    * \n",
      "   * * \n",
      "  * * * \n",
      " * * * * \n",
      "* * * * * \n"
     ]
    }
   ],
   "source": [
    "# for i in range(4):\n",
    "#     print((3-i)*\" \",(2*i+1)*\"*\")\n",
    "\n",
    "\n",
    "for i in range(0,5):\n",
    "    for j in range(0,5-i-1):\n",
    "        print(end=\" \")\n",
    "    for j in range(0,i+1):\n",
    "        print(\"*\",end=\" \")\n",
    "    print()    "
   ]
  },
  {
   "cell_type": "code",
   "execution_count": 33,
   "id": "dfb7849b",
   "metadata": {},
   "outputs": [
    {
     "name": "stdout",
     "output_type": "stream",
     "text": [
      " *******\n",
      "  *****\n",
      "   ***\n",
      "    *\n"
     ]
    }
   ],
   "source": [
    "for i in range(4):\n",
    "    print(i*\" \",(7-2*i)*\"*\")"
   ]
  },
  {
   "cell_type": "code",
   "execution_count": 46,
   "id": "7d5d7cb6",
   "metadata": {},
   "outputs": [
    {
     "name": "stdout",
     "output_type": "stream",
     "text": [
      "    *\n",
      "   **\n",
      "  ***\n",
      " ****\n",
      "  ***\n",
      "   **\n",
      "    *\n"
     ]
    }
   ],
   "source": [
    "for i in range(7):\n",
    "    if(i<4):\n",
    "        print((3-i)*\" \",(i+1)*\"*\")\n",
    "    else:\n",
    "        print((i-3)*\" \",(7-i)* \"*\")"
   ]
  },
  {
   "cell_type": "code",
   "execution_count": 6,
   "id": "e50eff7a",
   "metadata": {},
   "outputs": [
    {
     "name": "stdout",
     "output_type": "stream",
     "text": [
      "A \n",
      "A B \n",
      "A B C \n",
      "A B C D \n",
      "A B C D E \n"
     ]
    }
   ],
   "source": [
    "for i in range(65,70):\n",
    "    for j in range(65,i+1):\n",
    "               print(chr(j),end=\" \")\n",
    "               \n",
    "    print() "
   ]
  },
  {
   "cell_type": "code",
   "execution_count": 7,
   "id": "263b4e13",
   "metadata": {},
   "outputs": [
    {
     "name": "stdout",
     "output_type": "stream",
     "text": [
      "A \n",
      "B B \n",
      "C C C \n",
      "D D D D \n",
      "E E E E E \n"
     ]
    }
   ],
   "source": [
    "for i in range(65,70):\n",
    "    for j in range(65,i+1):\n",
    "               print(chr(i),end=\" \")\n",
    "               \n",
    "    print()"
   ]
  },
  {
   "cell_type": "code",
   "execution_count": 12,
   "id": "8cedcc87",
   "metadata": {},
   "outputs": [
    {
     "name": "stdout",
     "output_type": "stream",
     "text": [
      "    *\n",
      "   **\n",
      "  ***\n",
      " ****\n",
      "*****\n"
     ]
    }
   ],
   "source": [
    "\n",
    "for i in range(0,5):\n",
    "    for j in range(0,5-i-1):\n",
    "        print(end=\" \")\n",
    "    for j in range(0,i+1):\n",
    "        print(\"*\",end=\"\")\n",
    "    print()    "
   ]
  },
  {
   "cell_type": "code",
   "execution_count": null,
   "id": "2901ab48",
   "metadata": {},
   "outputs": [],
   "source": []
  },
  {
   "cell_type": "code",
   "execution_count": null,
   "id": "d859aa36",
   "metadata": {},
   "outputs": [],
   "source": []
  },
  {
   "cell_type": "code",
   "execution_count": 28,
   "id": "d285e29f",
   "metadata": {},
   "outputs": [
    {
     "name": "stdout",
     "output_type": "stream",
     "text": [
      "Enter Any Number30\n",
      "                             \n",
      "                            **\n",
      "                           ****\n",
      "                          ******\n",
      "                         ********\n",
      "                        **********\n",
      "                       ************\n",
      "                      **************\n",
      "                     ****************\n",
      "                    ******************\n",
      "                   ********************\n",
      "                  **********************\n",
      "                 ************************\n",
      "                **************************\n",
      "               ****************************\n",
      "              ******************************\n",
      "             ********************************\n",
      "            **********************************\n",
      "           ************************************\n",
      "          **************************************\n",
      "         ****************************************\n",
      "        ******************************************\n",
      "       ********************************************\n",
      "      **********************************************\n",
      "     ************************************************\n",
      "    **************************************************\n",
      "   ****************************************************\n",
      "  ******************************************************\n",
      " ********************************************************\n",
      "**********************************************************\n"
     ]
    }
   ],
   "source": [
    "#DYNAMIC Pattern\n",
    "\n",
    "\n",
    "\n",
    "num=int(input(\"Enter Any Number\"))\n",
    "\n",
    "\n",
    "for i in range(0,num):\n",
    "    for j in range(0,num-i-1):\n",
    "        print(end=\" \")\n",
    "        \n",
    "    for j in range(0,i+i):\n",
    "        print(\"*\",end='')\n",
    "        \n",
    "    print()    \n"
   ]
  },
  {
   "cell_type": "code",
   "execution_count": 26,
   "id": "511cfac1",
   "metadata": {},
   "outputs": [
    {
     "name": "stdout",
     "output_type": "stream",
     "text": [
      "     * \n",
      "   * * \n",
      " * * * \n",
      "* * * * \n",
      "* * * * * \n"
     ]
    }
   ],
   "source": [
    "for i in range(0,5):\n",
    "    for j in range(i,5-i):\n",
    "        print(\" \",end=\"\")\n",
    "        \n",
    "    for k in range(0,i+1):\n",
    "        print(\"*\",end=\" \")\n",
    "        \n",
    "    print()    "
   ]
  },
  {
   "cell_type": "code",
   "execution_count": null,
   "id": "fccb350d",
   "metadata": {},
   "outputs": [],
   "source": []
  },
  {
   "cell_type": "code",
   "execution_count": null,
   "id": "f9073710",
   "metadata": {},
   "outputs": [],
   "source": []
  },
  {
   "cell_type": "code",
   "execution_count": null,
   "id": "9bae3b44",
   "metadata": {},
   "outputs": [],
   "source": []
  },
  {
   "cell_type": "code",
   "execution_count": 31,
   "id": "c3382641",
   "metadata": {},
   "outputs": [
    {
     "name": "stdout",
     "output_type": "stream",
     "text": [
      "* * * * * \n",
      "* * * * \n",
      "* * * \n",
      "* * \n",
      "* \n"
     ]
    }
   ],
   "source": [
    "for i in range(5,0,-1):\n",
    "    for j in range(0,5-i):\n",
    "        print(end=\"\")\n",
    "    for j in range(0,i):\n",
    "        print(\"*\",end=\" \")\n",
    "    print()    \n",
    "        "
   ]
  },
  {
   "cell_type": "code",
   "execution_count": null,
   "id": "e90281bd",
   "metadata": {},
   "outputs": [],
   "source": []
  },
  {
   "cell_type": "code",
   "execution_count": null,
   "id": "2a246470",
   "metadata": {},
   "outputs": [],
   "source": []
  },
  {
   "cell_type": "code",
   "execution_count": 22,
   "id": "b4170992",
   "metadata": {},
   "outputs": [
    {
     "name": "stdout",
     "output_type": "stream",
     "text": [
      "Enter Any Number10\n",
      "**********\n",
      " *********\n",
      "  ********\n",
      "   *******\n",
      "    ******\n",
      "     *****\n",
      "      ****\n",
      "       ***\n",
      "        **\n",
      "         *\n"
     ]
    }
   ],
   "source": [
    "\n",
    "num=int(input(\"Enter Any Number\"))\n",
    "\n",
    "\n",
    "for i in range(num,0,-1):\n",
    "    for j in range(0,num-i):\n",
    "        print(end=\" \")\n",
    "        \n",
    "    for j in range(0,i):\n",
    "        print(\"*\",end='')\n",
    "        \n",
    "    print()    "
   ]
  },
  {
   "cell_type": "code",
   "execution_count": null,
   "id": "42f879b6",
   "metadata": {},
   "outputs": [],
   "source": []
  },
  {
   "cell_type": "code",
   "execution_count": 34,
   "id": "011980d4",
   "metadata": {},
   "outputs": [
    {
     "name": "stdout",
     "output_type": "stream",
     "text": [
      "*****\n",
      " ****\n",
      "  ***\n",
      "   **\n",
      "    *\n"
     ]
    }
   ],
   "source": [
    "for i in range(5,0,-1):\n",
    "    for j in range(0,5-i):\n",
    "        print(end=\" \")\n",
    "    for j in range(0,i):\n",
    "        print(\"*\",end=\"\")\n",
    "        \n",
    "    print()    "
   ]
  },
  {
   "cell_type": "code",
   "execution_count": 36,
   "id": "c02d9ee6",
   "metadata": {},
   "outputs": [
    {
     "name": "stdout",
     "output_type": "stream",
     "text": [
      "H\n",
      "EE\n",
      "LLL\n",
      "LLLL\n",
      "OOOOO\n"
     ]
    }
   ],
   "source": [
    "str=\"HELLO\"\n",
    "\n",
    "for i in range(0,5):\n",
    "    for j in range(0,i+1):\n",
    "        print(str[i],end=\"\")\n",
    "    print()   "
   ]
  },
  {
   "cell_type": "code",
   "execution_count": 37,
   "id": "c9bc0226",
   "metadata": {},
   "outputs": [
    {
     "name": "stdout",
     "output_type": "stream",
     "text": [
      "H\n",
      "HE\n",
      "HEL\n",
      "HELL\n",
      "HELLO\n"
     ]
    }
   ],
   "source": [
    "str=\"HELLO\"\n",
    "\n",
    "for i in range(0,5):\n",
    "    for j in range(0,i+1):\n",
    "        print(str[j],end=\"\")\n",
    "    print()   "
   ]
  },
  {
   "cell_type": "code",
   "execution_count": null,
   "id": "43d59286",
   "metadata": {},
   "outputs": [],
   "source": []
  }
 ],
 "metadata": {
  "kernelspec": {
   "display_name": "Python 3 (ipykernel)",
   "language": "python",
   "name": "python3"
  },
  "language_info": {
   "codemirror_mode": {
    "name": "ipython",
    "version": 3
   },
   "file_extension": ".py",
   "mimetype": "text/x-python",
   "name": "python",
   "nbconvert_exporter": "python",
   "pygments_lexer": "ipython3",
   "version": "3.11.3"
  }
 },
 "nbformat": 4,
 "nbformat_minor": 5
}
