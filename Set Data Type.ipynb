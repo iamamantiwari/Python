{
 "cells": [
  {
   "cell_type": "code",
   "execution_count": 16,
   "id": "75d11b03",
   "metadata": {},
   "outputs": [
    {
     "name": "stdout",
     "output_type": "stream",
     "text": [
      "{1, 2, 3, 4, 5, 6, 7}\n"
     ]
    }
   ],
   "source": [
    "a={1,1,2,2,3,4,5,5,6,7}\n",
    "print(a)"
   ]
  },
  {
   "cell_type": "code",
   "execution_count": 19,
   "id": "1d34176b",
   "metadata": {},
   "outputs": [
    {
     "name": "stdout",
     "output_type": "stream",
     "text": [
      "{89, 67, 45, 22}\n"
     ]
    }
   ],
   "source": [
    "y={22,45,67,22,45,89,67}\n",
    "print(y)"
   ]
  },
  {
   "cell_type": "code",
   "execution_count": null,
   "id": "9c7f0f9e",
   "metadata": {},
   "outputs": [],
   "source": []
  },
  {
   "cell_type": "markdown",
   "id": "b091bfce",
   "metadata": {},
   "source": [
    "# Set Data Type Manupulation"
   ]
  },
  {
   "cell_type": "code",
   "execution_count": 3,
   "id": "4a6e2b66",
   "metadata": {},
   "outputs": [
    {
     "name": "stdout",
     "output_type": "stream",
     "text": [
      "{'Dotnet', 'php', 'Java', 'Django', 'Python'}\n"
     ]
    }
   ],
   "source": [
    "courses={'Java','Python','Dotnet','Django','php'}\n",
    "print(courses)"
   ]
  },
  {
   "cell_type": "code",
   "execution_count": 4,
   "id": "e9c38906",
   "metadata": {},
   "outputs": [
    {
     "name": "stdout",
     "output_type": "stream",
     "text": [
      "<class 'set'>\n"
     ]
    }
   ],
   "source": [
    "print(type(courses))"
   ]
  },
  {
   "cell_type": "code",
   "execution_count": 5,
   "id": "5cc23f75",
   "metadata": {},
   "outputs": [
    {
     "name": "stdout",
     "output_type": "stream",
     "text": [
      "{'Dotnet', 'php', 'Java', 'Django', 'C##', 'Python'}\n"
     ]
    }
   ],
   "source": [
    "courses.add('C##') #Add\n",
    "print(courses)"
   ]
  },
  {
   "cell_type": "code",
   "execution_count": 6,
   "id": "5f69f77a",
   "metadata": {},
   "outputs": [
    {
     "name": "stdout",
     "output_type": "stream",
     "text": [
      "{'Dotnet', 'php', 'Django', 'C##', 'Python'}\n"
     ]
    }
   ],
   "source": [
    "courses.remove('Java')   #Remove\n",
    "print(courses)"
   ]
  },
  {
   "cell_type": "code",
   "execution_count": 7,
   "id": "b6d4ebde",
   "metadata": {},
   "outputs": [
    {
     "name": "stdout",
     "output_type": "stream",
     "text": [
      "set()\n"
     ]
    }
   ],
   "source": [
    "courses.clear()   #Clear\n",
    "print(courses) "
   ]
  },
  {
   "cell_type": "code",
   "execution_count": 9,
   "id": "d8df1025",
   "metadata": {},
   "outputs": [
    {
     "name": "stdout",
     "output_type": "stream",
     "text": [
      "{20}\n"
     ]
    }
   ],
   "source": [
    "courses.add(20)\n",
    "print(courses)"
   ]
  },
  {
   "cell_type": "code",
   "execution_count": 10,
   "id": "84574eca",
   "metadata": {},
   "outputs": [],
   "source": [
    "del courses #Delete"
   ]
  },
  {
   "cell_type": "code",
   "execution_count": null,
   "id": "621b9671",
   "metadata": {},
   "outputs": [],
   "source": []
  },
  {
   "cell_type": "markdown",
   "id": "777f0a68",
   "metadata": {},
   "source": [
    "Frozenset( ):- It is used to create immutuable set data type"
   ]
  },
  {
   "cell_type": "code",
   "execution_count": 11,
   "id": "98f38a98",
   "metadata": {},
   "outputs": [
    {
     "name": "stdout",
     "output_type": "stream",
     "text": [
      "frozenset({35, 40, 10, 78, 20})\n"
     ]
    }
   ],
   "source": [
    "data=frozenset([10,20,40,35,78,10,20,35])\n",
    "print(data)"
   ]
  },
  {
   "cell_type": "code",
   "execution_count": 17,
   "id": "7b596ba0",
   "metadata": {},
   "outputs": [
    {
     "name": "stdout",
     "output_type": "stream",
     "text": [
      "set()\n",
      "<class 'set'>\n"
     ]
    }
   ],
   "source": [
    "\n",
    "data=set()   #Empty Set\n",
    "print(data)\n",
    "print(type(data))"
   ]
  },
  {
   "cell_type": "code",
   "execution_count": 18,
   "id": "39cff689",
   "metadata": {},
   "outputs": [
    {
     "name": "stdout",
     "output_type": "stream",
     "text": [
      "{50, 20, 40, 10, 60, 30}\n"
     ]
    }
   ],
   "source": [
    "data={10,20,30,40,10,20,30,50,60,20,40}\n",
    "print(data)"
   ]
  },
  {
   "cell_type": "code",
   "execution_count": 19,
   "id": "994a9d41",
   "metadata": {},
   "outputs": [
    {
     "name": "stdout",
     "output_type": "stream",
     "text": [
      "{50, 20, 40, 10, 60, 30}\n"
     ]
    }
   ],
   "source": [
    "data2=data.copy()  #Copy\n",
    "print(data2)"
   ]
  },
  {
   "cell_type": "code",
   "execution_count": 20,
   "id": "98cfa1b2",
   "metadata": {},
   "outputs": [
    {
     "name": "stdout",
     "output_type": "stream",
     "text": [
      "{50, 20, 40, 10, 60, 30}\n"
     ]
    }
   ],
   "source": [
    "print(data)"
   ]
  },
  {
   "cell_type": "code",
   "execution_count": 21,
   "id": "04450504",
   "metadata": {},
   "outputs": [
    {
     "name": "stdout",
     "output_type": "stream",
     "text": [
      "{20, 40, 10, 60, 30}\n"
     ]
    }
   ],
   "source": [
    "data={10,20,30,40,10,20,30,50,60,20,40}    # Pop- It will delete any one element by itself\n",
    "  \n",
    "data.pop()\n",
    "\n",
    "print(data)"
   ]
  },
  {
   "cell_type": "code",
   "execution_count": null,
   "id": "03f3c844",
   "metadata": {},
   "outputs": [],
   "source": []
  },
  {
   "cell_type": "code",
   "execution_count": 25,
   "id": "e65180c6",
   "metadata": {},
   "outputs": [
    {
     "name": "stdout",
     "output_type": "stream",
     "text": [
      "{'a', 40, 10, 'c', 50, 'd', 20, 'e', 'b', 60, 30}\n"
     ]
    }
   ],
   "source": [
    "data={10,20,30,40,10,20,30,50,60,20,40}     #Update\n",
    "data2={'a','b','c','d','e'}\n",
    "\n",
    "data.update(data2)\n",
    "print(data)"
   ]
  },
  {
   "cell_type": "code",
   "execution_count": null,
   "id": "6c9cacda",
   "metadata": {},
   "outputs": [],
   "source": [
    "\n"
   ]
  },
  {
   "cell_type": "code",
   "execution_count": 26,
   "id": "94c8ed47",
   "metadata": {},
   "outputs": [
    {
     "name": "stdout",
     "output_type": "stream",
     "text": [
      "{50, 20, 10, 60, 30}\n"
     ]
    }
   ],
   "source": [
    "data={10,20,30,40,10,20,30,50,60,20,40}    #Discard:- if you wil pass any element which is not in your parameter than it wull not show you any error but in remove it will show you error\n",
    "\n",
    "data.discard(40)\n",
    "print(data)"
   ]
  },
  {
   "cell_type": "code",
   "execution_count": null,
   "id": "ae0da064",
   "metadata": {},
   "outputs": [],
   "source": []
  },
  {
   "cell_type": "code",
   "execution_count": null,
   "id": "9c8f6846",
   "metadata": {},
   "outputs": [],
   "source": []
  },
  {
   "cell_type": "code",
   "execution_count": null,
   "id": "efb47113",
   "metadata": {},
   "outputs": [],
   "source": []
  },
  {
   "cell_type": "code",
   "execution_count": null,
   "id": "4c57998a",
   "metadata": {},
   "outputs": [],
   "source": []
  }
 ],
 "metadata": {
  "kernelspec": {
   "display_name": "Python 3 (ipykernel)",
   "language": "python",
   "name": "python3"
  },
  "language_info": {
   "codemirror_mode": {
    "name": "ipython",
    "version": 3
   },
   "file_extension": ".py",
   "mimetype": "text/x-python",
   "name": "python",
   "nbconvert_exporter": "python",
   "pygments_lexer": "ipython3",
   "version": "3.11.3"
  }
 },
 "nbformat": 4,
 "nbformat_minor": 5
}
