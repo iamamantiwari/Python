{
 "cells": [
  {
   "cell_type": "markdown",
   "id": "b81899d1",
   "metadata": {},
   "source": [
    "# Tuple"
   ]
  },
  {
   "cell_type": "markdown",
   "id": "57642b01",
   "metadata": {},
   "source": [
    "Tuple is immutable it means you cann't modify the data one you give in tuple and represented by ( ) parenthesis. Data written in tuples are secure and fast processing"
   ]
  },
  {
   "cell_type": "code",
   "execution_count": 1,
   "id": "a427fbff",
   "metadata": {},
   "outputs": [
    {
     "data": {
      "text/plain": [
       "tuple"
      ]
     },
     "execution_count": 1,
     "metadata": {},
     "output_type": "execute_result"
    }
   ],
   "source": [
    "x=(1,2,3,3)\n",
    "\n",
    "type(x)"
   ]
  },
  {
   "cell_type": "code",
   "execution_count": 2,
   "id": "1ab7ab98",
   "metadata": {},
   "outputs": [
    {
     "data": {
      "text/plain": [
       "tuple"
      ]
     },
     "execution_count": 2,
     "metadata": {},
     "output_type": "execute_result"
    }
   ],
   "source": [
    "y=10,3,4,5   #for tuple parenthsis is not menditory \n",
    "\n",
    "type(y)"
   ]
  },
  {
   "cell_type": "code",
   "execution_count": null,
   "id": "421c464f",
   "metadata": {},
   "outputs": [],
   "source": []
  },
  {
   "cell_type": "code",
   "execution_count": 6,
   "id": "4c6ad2e1",
   "metadata": {},
   "outputs": [
    {
     "name": "stdout",
     "output_type": "stream",
     "text": [
      "1\n",
      "('Hello', 'Welcome', 'Hello')\n",
      "('Hello',)\n"
     ]
    }
   ],
   "source": [
    "# Accessing Tuple\n",
    "\n",
    "\n",
    "data=(1,2,3,4,5)\n",
    "data2=('Hello','Welcome','Hello')\n",
    "data3=(22,34,'Hello',21.2)\n",
    "\n",
    "print(data[0])\n",
    "\n",
    "print(data2[0:3])\n",
    "\n",
    "print(data3[-2:-1])"
   ]
  },
  {
   "cell_type": "code",
   "execution_count": null,
   "id": "552be0c7",
   "metadata": {},
   "outputs": [],
   "source": []
  },
  {
   "cell_type": "code",
   "execution_count": 8,
   "id": "b8694166",
   "metadata": {},
   "outputs": [
    {
     "name": "stdout",
     "output_type": "stream",
     "text": [
      "('hello', 2.4, 'Welcome')\n",
      "(('hello', 2.4, 'Welcome'), (1, 2, 3, 4))\n"
     ]
    }
   ],
   "source": [
    "# Nested  Tuple\n",
    "\n",
    "data='hello',2.4,'Welcome'\n",
    "data2=data,(1,2,3,4)\n",
    "\n",
    "print(data)\n",
    "\n",
    "print(data2)\n"
   ]
  },
  {
   "cell_type": "code",
   "execution_count": null,
   "id": "bad2cef4",
   "metadata": {},
   "outputs": [],
   "source": []
  },
  {
   "cell_type": "code",
   "execution_count": 9,
   "id": "c615b0e4",
   "metadata": {},
   "outputs": [
    {
     "name": "stdout",
     "output_type": "stream",
     "text": [
      "(1, 2, 3, 4, 5, 'Hello', 'Welcome', 'Hello')\n"
     ]
    }
   ],
   "source": [
    "# Concatenate Operator (+)\n",
    "\n",
    "\n",
    "data=(1,2,3,4,5)\n",
    "data2=('Hello','Welcome','Hello')\n",
    "data3=data+data2\n",
    "\n",
    "print(data3)"
   ]
  },
  {
   "cell_type": "code",
   "execution_count": null,
   "id": "407e68a4",
   "metadata": {},
   "outputs": [],
   "source": []
  },
  {
   "cell_type": "code",
   "execution_count": 10,
   "id": "a3986624",
   "metadata": {},
   "outputs": [
    {
     "name": "stdout",
     "output_type": "stream",
     "text": [
      "(1, 2, 3, 4, 5, 1, 2, 3, 4, 5)\n",
      "('Hello', 'Welcome', 'Hello', 'Hello', 'Welcome', 'Hello', 'Hello', 'Welcome', 'Hello')\n"
     ]
    }
   ],
   "source": [
    "#Tuple Replicate Operator (*)\n",
    "\n",
    "data=(1,2,3,4,5)\n",
    "data2=('Hello','Welcome','Hello')\n",
    "\n",
    "print(data*2)\n",
    "\n",
    "print(3*data2)"
   ]
  },
  {
   "cell_type": "code",
   "execution_count": null,
   "id": "91595d9a",
   "metadata": {},
   "outputs": [],
   "source": []
  },
  {
   "cell_type": "code",
   "execution_count": 12,
   "id": "ad50f23d",
   "metadata": {},
   "outputs": [
    {
     "name": "stdout",
     "output_type": "stream",
     "text": [
      "(1, 2, 3, 4, 5)\n"
     ]
    },
    {
     "ename": "TypeError",
     "evalue": "'tuple' object does not support item assignment",
     "output_type": "error",
     "traceback": [
      "\u001b[0;31m---------------------------------------------------------------------------\u001b[0m",
      "\u001b[0;31mTypeError\u001b[0m                                 Traceback (most recent call last)",
      "Cell \u001b[0;32mIn[12], line 9\u001b[0m\n\u001b[1;32m      6\u001b[0m \u001b[38;5;66;03m# data2=('Hello','Welcome','Hello')\u001b[39;00m\n\u001b[1;32m      7\u001b[0m \u001b[38;5;28mprint\u001b[39m(data)\n\u001b[0;32m----> 9\u001b[0m data[\u001b[38;5;241m2\u001b[39m]\u001b[38;5;241m=\u001b[39m\u001b[38;5;124m'\u001b[39m\u001b[38;5;124mWelcome\u001b[39m\u001b[38;5;124m'\u001b[39m\n\u001b[1;32m     10\u001b[0m \u001b[38;5;28mprint\u001b[39m(data)\n",
      "\u001b[0;31mTypeError\u001b[0m: 'tuple' object does not support item assignment"
     ]
    }
   ],
   "source": [
    "# Updation of Tuple element\n",
    "\n",
    "\n",
    "\n",
    "data=(1,2,3,4,5)\n",
    "# data2=('Hello','Welcome','Hello')\n",
    "print(data)\n",
    "\n",
    "data[2]='Welcome'\n",
    "print(data)"
   ]
  },
  {
   "cell_type": "code",
   "execution_count": null,
   "id": "262a189b",
   "metadata": {},
   "outputs": [],
   "source": []
  },
  {
   "cell_type": "code",
   "execution_count": 14,
   "id": "cb7f4fd7",
   "metadata": {},
   "outputs": [],
   "source": [
    "# Deleting Tuple\n",
    "\n",
    "# del keyword\n",
    "\n",
    "data=(1,2,3,4,5)\n",
    "\n",
    "del data\n"
   ]
  },
  {
   "cell_type": "code",
   "execution_count": 15,
   "id": "182d77b7",
   "metadata": {},
   "outputs": [
    {
     "ename": "NameError",
     "evalue": "name 'data' is not defined",
     "output_type": "error",
     "traceback": [
      "\u001b[0;31m---------------------------------------------------------------------------\u001b[0m",
      "\u001b[0;31mNameError\u001b[0m                                 Traceback (most recent call last)",
      "Cell \u001b[0;32mIn[15], line 1\u001b[0m\n\u001b[0;32m----> 1\u001b[0m \u001b[38;5;28mprint\u001b[39m(data)\n",
      "\u001b[0;31mNameError\u001b[0m: name 'data' is not defined"
     ]
    }
   ],
   "source": [
    "print(data)"
   ]
  },
  {
   "cell_type": "code",
   "execution_count": null,
   "id": "47ebb3f4",
   "metadata": {},
   "outputs": [],
   "source": []
  },
  {
   "cell_type": "code",
   "execution_count": null,
   "id": "812d9f7a",
   "metadata": {},
   "outputs": [],
   "source": []
  },
  {
   "cell_type": "code",
   "execution_count": null,
   "id": "5e8bbcb6",
   "metadata": {},
   "outputs": [],
   "source": []
  }
 ],
 "metadata": {
  "kernelspec": {
   "display_name": "Python 3 (ipykernel)",
   "language": "python",
   "name": "python3"
  },
  "language_info": {
   "codemirror_mode": {
    "name": "ipython",
    "version": 3
   },
   "file_extension": ".py",
   "mimetype": "text/x-python",
   "name": "python",
   "nbconvert_exporter": "python",
   "pygments_lexer": "ipython3",
   "version": "3.11.3"
  }
 },
 "nbformat": 4,
 "nbformat_minor": 5
}
