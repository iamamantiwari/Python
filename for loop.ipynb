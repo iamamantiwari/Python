{
 "cells": [
  {
   "cell_type": "code",
   "execution_count": 1,
   "id": "4909923f",
   "metadata": {},
   "outputs": [
    {
     "name": "stdout",
     "output_type": "stream",
     "text": [
      "red\n",
      "green\n",
      "blue\n",
      "black\n"
     ]
    }
   ],
   "source": [
    "color=['red','green','blue','black']\n",
    "\n",
    "for k in color:\n",
    "    print(k)"
   ]
  },
  {
   "cell_type": "code",
   "execution_count": 3,
   "id": "b4c2aa39",
   "metadata": {},
   "outputs": [
    {
     "name": "stdout",
     "output_type": "stream",
     "text": [
      "1 2 3 4 5 6 7 8 "
     ]
    }
   ],
   "source": [
    "for k in (1,2,3,4,5,6,7,8):\n",
    "    print(k,end=' ')"
   ]
  },
  {
   "cell_type": "code",
   "execution_count": 4,
   "id": "f656aaf5",
   "metadata": {},
   "outputs": [
    {
     "name": "stdout",
     "output_type": "stream",
     "text": [
      "H\n",
      "e\n",
      "l\n",
      "l\n",
      "o\n"
     ]
    }
   ],
   "source": [
    "for j in \"Hello\":\n",
    "    print(j)"
   ]
  },
  {
   "cell_type": "code",
   "execution_count": 10,
   "id": "23639f7d",
   "metadata": {},
   "outputs": [
    {
     "name": "stdout",
     "output_type": "stream",
     "text": [
      "id\n",
      "name\n",
      "Profile\n"
     ]
    }
   ],
   "source": [
    "#Using Dictionary in for loop\n",
    "\n",
    "\n",
    "\n",
    "dic={'id':10,'name':'Aman','Profile':'Software Developer'}\n",
    "\n",
    "for i in dic:\n",
    "    print(i)"
   ]
  },
  {
   "cell_type": "code",
   "execution_count": 11,
   "id": "08a3a249",
   "metadata": {},
   "outputs": [
    {
     "name": "stdout",
     "output_type": "stream",
     "text": [
      "10\n",
      "Aman\n",
      "Software Developer\n"
     ]
    }
   ],
   "source": [
    "dic={'id':10,'name':'Aman','Profile':'Software Developer'}\n",
    "\n",
    "for i in dic.values():\n",
    "    print(i)"
   ]
  },
  {
   "cell_type": "code",
   "execution_count": 15,
   "id": "4a905b68",
   "metadata": {},
   "outputs": [
    {
     "name": "stdout",
     "output_type": "stream",
     "text": [
      "('id', 10)\n",
      "('name', 'Aman')\n",
      "('Profile', 'Software Developer')\n"
     ]
    }
   ],
   "source": [
    "dic={'id':10,'name':'Aman','Profile':'Software Developer'}\n",
    "\n",
    "for i in dic.items():\n",
    "    print(i)"
   ]
  },
  {
   "cell_type": "code",
   "execution_count": 17,
   "id": "74ba8dc1",
   "metadata": {},
   "outputs": [
    {
     "name": "stdout",
     "output_type": "stream",
     "text": [
      "id => 10\n",
      "name => Aman\n",
      "Profile => Software Developer\n"
     ]
    }
   ],
   "source": [
    "dic={'id':10,'name':'Aman','Profile':'Software Developer'}\n",
    "\n",
    "for i,j in dic.items():\n",
    "    print(i,'=>',j)"
   ]
  },
  {
   "cell_type": "code",
   "execution_count": null,
   "id": "0c4fbf2b",
   "metadata": {},
   "outputs": [],
   "source": []
  },
  {
   "cell_type": "code",
   "execution_count": null,
   "id": "b97470d1",
   "metadata": {},
   "outputs": [],
   "source": []
  },
  {
   "cell_type": "code",
   "execution_count": null,
   "id": "b02b4f3e",
   "metadata": {},
   "outputs": [],
   "source": []
  },
  {
   "cell_type": "code",
   "execution_count": 18,
   "id": "c23941e1",
   "metadata": {},
   "outputs": [
    {
     "name": "stdout",
     "output_type": "stream",
     "text": [
      "red\n",
      "green\n",
      "blue\n",
      "black\n"
     ]
    }
   ],
   "source": [
    "#Iterator   \n",
    "\n",
    "\n",
    "color=['red','green','blue','black']\n",
    "\n",
    "for k in color:\n",
    "    print(k)"
   ]
  },
  {
   "cell_type": "code",
   "execution_count": 19,
   "id": "aa4114f9",
   "metadata": {},
   "outputs": [
    {
     "data": {
      "text/plain": [
       "<list_iterator at 0x104898970>"
      ]
     },
     "execution_count": 19,
     "metadata": {},
     "output_type": "execute_result"
    }
   ],
   "source": [
    "it=iter(color)\n",
    "it"
   ]
  },
  {
   "cell_type": "code",
   "execution_count": 20,
   "id": "a34614a1",
   "metadata": {},
   "outputs": [
    {
     "data": {
      "text/plain": [
       "'red'"
      ]
     },
     "execution_count": 20,
     "metadata": {},
     "output_type": "execute_result"
    }
   ],
   "source": [
    "next(it)"
   ]
  },
  {
   "cell_type": "code",
   "execution_count": 21,
   "id": "d5ee52bb",
   "metadata": {},
   "outputs": [
    {
     "data": {
      "text/plain": [
       "'green'"
      ]
     },
     "execution_count": 21,
     "metadata": {},
     "output_type": "execute_result"
    }
   ],
   "source": [
    "next(it)"
   ]
  },
  {
   "cell_type": "code",
   "execution_count": 22,
   "id": "80e91ba7",
   "metadata": {},
   "outputs": [
    {
     "data": {
      "text/plain": [
       "'blue'"
      ]
     },
     "execution_count": 22,
     "metadata": {},
     "output_type": "execute_result"
    }
   ],
   "source": [
    "next(it)"
   ]
  },
  {
   "cell_type": "code",
   "execution_count": 23,
   "id": "4dafbe95",
   "metadata": {},
   "outputs": [
    {
     "data": {
      "text/plain": [
       "'black'"
      ]
     },
     "execution_count": 23,
     "metadata": {},
     "output_type": "execute_result"
    }
   ],
   "source": [
    "next(it)"
   ]
  },
  {
   "cell_type": "code",
   "execution_count": 24,
   "id": "93e95c76",
   "metadata": {},
   "outputs": [
    {
     "ename": "StopIteration",
     "evalue": "",
     "output_type": "error",
     "traceback": [
      "\u001b[0;31m---------------------------------------------------------------------------\u001b[0m",
      "\u001b[0;31mStopIteration\u001b[0m                             Traceback (most recent call last)",
      "Cell \u001b[0;32mIn[24], line 1\u001b[0m\n\u001b[0;32m----> 1\u001b[0m \u001b[38;5;28mnext\u001b[39m(it)\n",
      "\u001b[0;31mStopIteration\u001b[0m: "
     ]
    }
   ],
   "source": [
    "next(it)"
   ]
  },
  {
   "cell_type": "code",
   "execution_count": null,
   "id": "b71c5188",
   "metadata": {},
   "outputs": [],
   "source": []
  },
  {
   "cell_type": "code",
   "execution_count": null,
   "id": "0b33a34f",
   "metadata": {},
   "outputs": [],
   "source": []
  },
  {
   "cell_type": "code",
   "execution_count": null,
   "id": "40375cd3",
   "metadata": {},
   "outputs": [],
   "source": []
  },
  {
   "cell_type": "code",
   "execution_count": null,
   "id": "7ff859c1",
   "metadata": {},
   "outputs": [],
   "source": []
  },
  {
   "cell_type": "code",
   "execution_count": 27,
   "id": "649cccff",
   "metadata": {},
   "outputs": [
    {
     "name": "stdout",
     "output_type": "stream",
     "text": [
      "0 1 2 3 4 5 6 7 8 9 "
     ]
    }
   ],
   "source": [
    "#range\n",
    "\n",
    "\n",
    "for k in range(10):\n",
    "    print(k,end=\" \")"
   ]
  },
  {
   "cell_type": "code",
   "execution_count": 28,
   "id": "7a295383",
   "metadata": {},
   "outputs": [
    {
     "name": "stdout",
     "output_type": "stream",
     "text": [
      "1 2 3 4 5 6 7 8 9 10 "
     ]
    }
   ],
   "source": [
    "\n",
    "\n",
    "for k in range(1,11):\n",
    "    print(k,end=\" \")"
   ]
  },
  {
   "cell_type": "code",
   "execution_count": 29,
   "id": "349877df",
   "metadata": {},
   "outputs": [
    {
     "name": "stdout",
     "output_type": "stream",
     "text": [
      "1 3 5 7 9 11 13 15 17 19 "
     ]
    }
   ],
   "source": [
    "\n",
    "\n",
    "for k in range(1,20,2):\n",
    "    print(k,end=\" \")"
   ]
  },
  {
   "cell_type": "code",
   "execution_count": 30,
   "id": "a2d79669",
   "metadata": {},
   "outputs": [
    {
     "name": "stdout",
     "output_type": "stream",
     "text": [
      "10 9 8 7 6 5 4 3 2 1 "
     ]
    }
   ],
   "source": [
    "\n",
    "for k in range(10,0,-1):\n",
    "    print(k,end=\" \")"
   ]
  },
  {
   "cell_type": "code",
   "execution_count": null,
   "id": "251e103c",
   "metadata": {},
   "outputs": [],
   "source": []
  },
  {
   "cell_type": "code",
   "execution_count": 35,
   "id": "2e3a5078",
   "metadata": {},
   "outputs": [
    {
     "name": "stdout",
     "output_type": "stream",
     "text": [
      "0 red\n",
      "1 green\n",
      "2 blue\n",
      "3 black\n"
     ]
    }
   ],
   "source": [
    "color=['red','green','blue','black']\n",
    "\n",
    "for k in range(len(color)):\n",
    "    \n",
    "    print(k,color[k])"
   ]
  },
  {
   "cell_type": "code",
   "execution_count": 38,
   "id": "add851eb",
   "metadata": {},
   "outputs": [
    {
     "name": "stdout",
     "output_type": "stream",
     "text": [
      "0 red\n",
      "1 green\n",
      "2 blue\n",
      "3 black\n"
     ]
    }
   ],
   "source": [
    "\n",
    "\n",
    "color=['red','green','blue','black']\n",
    "\n",
    "for k,i in enumerate(color):\n",
    "    print(k,i)"
   ]
  },
  {
   "cell_type": "code",
   "execution_count": null,
   "id": "5b7b31fc",
   "metadata": {},
   "outputs": [],
   "source": []
  },
  {
   "cell_type": "code",
   "execution_count": 41,
   "id": "bbca8eda",
   "metadata": {},
   "outputs": [
    {
     "name": "stdout",
     "output_type": "stream",
     "text": [
      "(11, 'Aman', 23)\n",
      "(22, 'Deepak', 32)\n",
      "(33, 'Ayush', 24)\n",
      "(44, 'Aditya', 28)\n",
      "(55, 'Kunal', 21)\n"
     ]
    }
   ],
   "source": [
    "# zip() function\n",
    "\n",
    "id=[11,22,33,44,55]\n",
    "name=['Aman','Deepak','Ayush','Aditya','Kunal']\n",
    "age=[23,32,24,28,21]\n",
    "\n",
    "for i in zip(id,name,age):\n",
    "    print(i)"
   ]
  },
  {
   "cell_type": "code",
   "execution_count": null,
   "id": "a1becd84",
   "metadata": {},
   "outputs": [],
   "source": []
  },
  {
   "cell_type": "code",
   "execution_count": null,
   "id": "6445216b",
   "metadata": {},
   "outputs": [],
   "source": []
  },
  {
   "cell_type": "code",
   "execution_count": null,
   "id": "1287357d",
   "metadata": {},
   "outputs": [],
   "source": []
  }
 ],
 "metadata": {
  "kernelspec": {
   "display_name": "Python 3 (ipykernel)",
   "language": "python",
   "name": "python3"
  },
  "language_info": {
   "codemirror_mode": {
    "name": "ipython",
    "version": 3
   },
   "file_extension": ".py",
   "mimetype": "text/x-python",
   "name": "python",
   "nbconvert_exporter": "python",
   "pygments_lexer": "ipython3",
   "version": "3.11.3"
  }
 },
 "nbformat": 4,
 "nbformat_minor": 5
}
